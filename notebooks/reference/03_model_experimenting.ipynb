{
 "cells": [
  {
   "cell_type": "markdown",
   "metadata": {},
   "source": [
    "# Purpose"
   ]
  },
  {
   "cell_type": "markdown",
   "metadata": {},
   "source": [
    "This notebook demonstrates the model experimentation and finalization. It covers EDA, outlier treatment, transformation, training, model evaluation and comparison across models."
   ]
  },
  {
   "cell_type": "markdown",
   "metadata": {},
   "source": [
    "# Imports"
   ]
  },
  {
   "cell_type": "code",
   "execution_count": 185,
   "metadata": {},
   "outputs": [],
   "source": [
    "import os\n",
    "import os.path as op\n",
    "import shutil\n",
    "\n",
    "# standard third party imports\n",
    "import numpy as np\n",
    "import pandas as pd\n",
    "from matplotlib import pyplot as plt\n",
    "from sklearn.pipeline import Pipeline\n",
    "from sklearn.feature_selection import SelectFromModel\n",
    "from sklearn.model_selection import GridSearchCV\n",
    "from sklearn.preprocessing import FunctionTransformer\n",
    "from sklearn.compose import ColumnTransformer\n",
    "\n",
    "# impute missing values\n",
    "from sklearn.experimental import enable_iterative_imputer  # noqa\n",
    "from sklearn.impute import KNNImputer, IterativeImputer, SimpleImputer\n",
    "from sklearn.tree import DecisionTreeRegressor\n",
    "from category_encoders import TargetEncoder\n",
    "from sklearn.preprocessing import OneHotEncoder"
   ]
  },
  {
   "cell_type": "code",
   "execution_count": 186,
   "metadata": {},
   "outputs": [
    {
     "name": "stdout",
     "output_type": "stream",
     "text": [
      "The autoreload extension is already loaded. To reload it, use:\n",
      "  %reload_ext autoreload\n"
     ]
    }
   ],
   "source": [
    "%load_ext autoreload\n",
    "%autoreload 2"
   ]
  },
  {
   "cell_type": "code",
   "execution_count": 187,
   "metadata": {},
   "outputs": [],
   "source": [
    "# standard code-template imports\n",
    "from ta_lib.core.api import (\n",
    "    create_context, get_dataframe, get_feature_names_from_column_transformer, string_cleaning,\n",
    "    get_package_path, display_as_tabs, save_pipeline, load_pipeline, initialize_environment,\n",
    "    load_dataset, save_dataset, DEFAULT_ARTIFACTS_PATH, list_datasets\n",
    ")\n",
    "\n",
    "import ta_lib.eda.api as eda\n",
    "from xgboost import XGBRegressor\n",
    "from ta_lib.regression.api import SKLStatsmodelOLS\n",
    "from ta_lib.regression.api import RegressionComparison, RegressionReport\n",
    "import ta_lib.reports.api as reports\n",
    "from ta_lib.data_processing.api import Outlier\n",
    "\n",
    "initialize_environment(debug=False, hide_warnings=True)"
   ]
  },
  {
   "cell_type": "markdown",
   "metadata": {},
   "source": [
    "# Initialization"
   ]
  },
  {
   "cell_type": "code",
   "execution_count": 188,
   "metadata": {},
   "outputs": [],
   "source": [
    "artifacts_folder = DEFAULT_ARTIFACTS_PATH"
   ]
  },
  {
   "cell_type": "code",
   "execution_count": 189,
   "metadata": {},
   "outputs": [
    {
     "name": "stdout",
     "output_type": "stream",
     "text": [
      "['/raw/housing', '/cleaned/housing', '/train/housing/features', '/train/housing/target', '/test/housing/features', '/test/housing/target', '/score/sales/output']\n"
     ]
    }
   ],
   "source": [
    "config_path = op.join('conf', 'config.yml')\n",
    "context = create_context(config_path)\n",
    "print(list_datasets(context))"
   ]
  },
  {
   "cell_type": "markdown",
   "metadata": {},
   "source": [
    "# Feature Engineering\n",
    "\n",
    "The focus here is the `Pipeline` and not the model. Though the model would inform the pipeline that is needed to train the model, our focus is to set it up in such a way that it can be saved/loaded, tweaked for different model choices and so on."
   ]
  },
  {
   "cell_type": "markdown",
   "metadata": {},
   "source": [
    "## Read the Train and Test Data"
   ]
  },
  {
   "cell_type": "code",
   "execution_count": 190,
   "metadata": {},
   "outputs": [
    {
     "name": "stdout",
     "output_type": "stream",
     "text": [
      "\n",
      "    train_X_shape->(16512, 9)\n",
      "    train_y_shape->(16512, 1)\n",
      "    \n",
      "\n",
      "    test_X_shape->(4128, 9)\n",
      "    test_y_shape->(4128, 1)\n",
      "    \n"
     ]
    }
   ],
   "source": [
    "train_X = load_dataset(context, \"train/housing/features\")\n",
    "train_y = load_dataset(context, \"train/housing/target\")\n",
    "print(\n",
    "    f\"\"\"\n",
    "    train_X_shape->{train_X.shape}\n",
    "    train_y_shape->{train_y.shape}\n",
    "    \"\"\"\n",
    ")\n",
    "\n",
    "\n",
    "test_X = load_dataset(context, \"test/housing/features\")\n",
    "test_y = load_dataset(context, \"test/housing/target\")\n",
    "print(\n",
    "    f\"\"\"\n",
    "    test_X_shape->{test_X.shape}\n",
    "    test_y_shape->{test_y.shape}\n",
    "    \"\"\"\n",
    ")"
   ]
  },
  {
   "cell_type": "markdown",
   "metadata": {},
   "source": [
    "## Feature Engineering Pipelines"
   ]
  },
  {
   "cell_type": "markdown",
   "metadata": {},
   "source": [
    "**Dev NOTES**\n",
    "\n",
    "For Feature Engineering and Model Building sklearn.pipeline.Pipeline are leveraged because of the following advantages\n",
    "<details>\n",
    "    \n",
    "1. It helps in automating workflows and are easier to read and comprehend.\n",
    "2. Right Sequence can be ensured and (for example always encodes before imputing)\n",
    "3. Reproducibility is very convenient with pipelines\n",
    "4. Pipelines help you prevent data leakage in your test data\n",
    "5. Code is near implementation ready"
   ]
  },
  {
   "cell_type": "markdown",
   "metadata": {},
   "source": [
    "### General Steps in the Feature Transformation are as follows\n",
    " - Outlier Treatment\n",
    " - Encoding of Categorical Columns\n",
    " - Missing Values Imputation"
   ]
  },
  {
   "cell_type": "code",
   "execution_count": 191,
   "metadata": {},
   "outputs": [],
   "source": [
    "# collecting different types of columns for transformations\n",
    "cat_columns = train_X.select_dtypes('object').columns\n",
    "num_columns = train_X.select_dtypes('number').columns"
   ]
  },
  {
   "cell_type": "markdown",
   "metadata": {},
   "source": [
    "#### Outlier Handling\n",
    "- A Custom Transformer is used to handle outliers. It is not included as part of the pipeline as outliers handling are optional for test data\n",
    "- An option to either drop or cap the outliers can be passed during the transform call\n",
    "- If we want to treat outliers for some columns them we can pass cols argument to the Transformer\n",
    "- This will go into production code"
   ]
  },
  {
   "cell_type": "code",
   "execution_count": 192,
   "metadata": {},
   "outputs": [
    {
     "name": "stdout",
     "output_type": "stream",
     "text": [
      "(16512, 9)\n",
      "(16512, 9)\n"
     ]
    }
   ],
   "source": [
    "outlier_transformer = Outlier(method='mean')\n",
    "print(train_X.shape)\n",
    "train_X = outlier_transformer.fit_transform(train_X)\n",
    "print(train_X.shape)"
   ]
  },
  {
   "cell_type": "markdown",
   "metadata": {},
   "source": [
    "#### Encoding\n"
   ]
  },
  {
   "cell_type": "markdown",
   "metadata": {},
   "source": [
    "Some sample pipelines showcasing how to create column specific pipelines and integrating them overall is presented below\n",
    "\n",
    "- Commonly target encoding is done for categorical variables with too many levels.\n",
    "- We also group sparse levels. For fewer levels one hot encoding/label encoding is preferred.\n",
    "- If there is one dominant level, we can use binary encoding.\n",
    "- This will go into production code"
   ]
  },
  {
   "cell_type": "code",
   "execution_count": 193,
   "metadata": {},
   "outputs": [],
   "source": [
    "# NOTE: the list of transformations here are not sequential but weighted \n",
    "# (if multiple transforms are specified for a particular column)\n",
    "# for sequential transforms use a pipeline as shown above.\n",
    "features_transformer = ColumnTransformer([\n",
    "    ## categorical columns\n",
    "    ('tgt_enc', OneHotEncoder(), list(cat_columns)),\n",
    "\n",
    "    ## numeric columns\n",
    "    ('med_enc', SimpleImputer(strategy='median'), num_columns),  \n",
    "])"
   ]
  },
  {
   "cell_type": "code",
   "execution_count": 194,
   "metadata": {},
   "outputs": [
    {
     "data": {
      "text/plain": [
       "ColumnTransformer(transformers=[('tgt_enc', OneHotEncoder(),\n",
       "                                 ['ocean_proximity']),\n",
       "                                ('med_enc', SimpleImputer(strategy='median'),\n",
       "                                 Index(['longitude', 'latitude', 'housing_median_age', 'total_rooms',\n",
       "       'total_bedrooms', 'population', 'households', 'median_income'],\n",
       "      dtype='object'))])"
      ]
     },
     "execution_count": 194,
     "metadata": {},
     "output_type": "execute_result"
    }
   ],
   "source": [
    "features_transformer"
   ]
  },
  {
   "cell_type": "markdown",
   "metadata": {},
   "source": [
    "**Dev notes(Encoding):**\n",
    "<details>\n",
    "\n",
    "    Some common practices followed in Categorical Feature Encoding are\n",
    "    * For categorical variables with too many levels, target encoding can be done.\n",
    "    * For fewer levels, one hot encoding can be done.\n",
    "    * If one very dominant level is observed, binary encoding can be used.\n",
    "    \n",
    "    \n",
    "</details>"
   ]
  },
  {
   "cell_type": "markdown",
   "metadata": {},
   "source": [
    "## 3.2 Feature analysis\n",
    "\n",
    "Using the pipeline above analyze the features and decide on additional features to add/remove from the pipeline. This section will not be part of the production code, unless input data drifts etc. are explicitly demanded in the project.\n",
    "\n",
    "Here we are primarily focused on feature selection/elimination based on business rules, prior knowledge, data analysis.\n",
    "\n",
    "**We are not building any models at this point.**\n"
   ]
  },
  {
   "cell_type": "markdown",
   "metadata": {},
   "source": [
    "- we create some sample data to analyze that we assume represent the population\n",
    "- train the features transformer and do the analysis as below"
   ]
  },
  {
   "cell_type": "code",
   "execution_count": 195,
   "metadata": {},
   "outputs": [
    {
     "name": "stderr",
     "output_type": "stream",
     "text": [
      "Function get_feature_names is deprecated; get_feature_names is deprecated in 1.0 and will be removed in 1.2. Please use get_feature_names_out instead.\n"
     ]
    }
   ],
   "source": [
    "sample_X = train_X.sample(frac=0.1, random_state=context.random_seed)\n",
    "sample_y = train_y.loc[sample_X.index]\n",
    "\n",
    "sample_train_X = get_dataframe(\n",
    "    features_transformer.fit_transform(sample_X, sample_y), \n",
    "    get_feature_names_from_column_transformer(features_transformer)\n",
    ")\n",
    "\n",
    "# nothing to do for target\n",
    "sample_train_y = sample_y"
   ]
  },
  {
   "cell_type": "markdown",
   "metadata": {},
   "source": [
    "Running the features transformer on the complete data"
   ]
  },
  {
   "cell_type": "code",
   "execution_count": 196,
   "metadata": {},
   "outputs": [
    {
     "name": "stderr",
     "output_type": "stream",
     "text": [
      "Function get_feature_names is deprecated; get_feature_names is deprecated in 1.0 and will be removed in 1.2. Please use get_feature_names_out instead.\n"
     ]
    }
   ],
   "source": [
    "train_X = get_dataframe(\n",
    "    features_transformer.fit_transform(train_X, train_y), \n",
    "    get_feature_names_from_column_transformer(features_transformer)\n",
    ")"
   ]
  },
  {
   "cell_type": "markdown",
   "metadata": {},
   "source": [
    "### 3.2.1 Univariate\n",
    "\n",
    "\n",
    "- Look at each variable independently. This is useful if your models have assumptions on the distribution and/or bounds on the features/target"
   ]
  },
  {
   "cell_type": "code",
   "execution_count": 197,
   "metadata": {},
   "outputs": [
    {
     "data": {},
     "metadata": {},
     "output_type": "display_data"
    },
    {
     "data": {
      "application/vnd.holoviews_exec.v0+json": "",
      "text/html": [
       "<div id='71622'>\n",
       "\n",
       "\n",
       "\n",
       "\n",
       "\n",
       "  <div class=\"bk-root\" id=\"867ef056-c46e-46da-84da-ef1828a36a1b\" data-root-id=\"71622\"></div>\n",
       "</div>\n",
       "<script type=\"application/javascript\">(function(root) {\n",
       "  function embed_document(root) {\n",
       "  var docs_json = {\"548d4245-4064-4470-963a-77cbd9fe9aae\":{\"roots\":{\"references\":[{\"attributes\":{\"data\":{\"left\":{\"__ndarray__\":\"ZmZmZmYWX8AQWDm0yPZewLpJDAIr117AZDvfT423XsAOLbKd75dewLgehetReF7AYhBYObRYXsAMAiuHFjlewLbz/dR4GV7AYOXQItv5XcAK16NwPdpdwLTIdr6ful3AXrpJDAKbXcAIrBxaZHtdwLKd76fGW13AXI/C9Sg8XcAGgZVDixxdwLByaJHt/FzAWmQ730/dXMAEVg4tsr1cwA==\",\"dtype\":\"float64\",\"order\":\"little\",\"shape\":[20]},\"right\":{\"__ndarray__\":\"EFg5tMj2XsC6SQwCK9dewGQ730+Nt17ADi2yne+XXsC4HoXrUXhewGIQWDm0WF7ADAIrhxY5XsC28/3UeBlewGDl0CLb+V3ACtejcD3aXcC0yHa+n7pdwF66SQwCm13ACKwcWmR7XcCyne+nxltdwFyPwvUoPF3ABoGVQ4scXcCwcmiR7fxcwFpkO99P3VzABFYOLbK9XMCuR+F6FJ5cwA==\",\"dtype\":\"float64\",\"order\":\"little\",\"shape\":[20]},\"top\":[106,41,114,1065,2421,1126,978,481,264,590,611,847,4281,1370,1819,186,94,83,12,23]},\"selected\":{\"id\":\"71665\"},\"selection_policy\":{\"id\":\"71691\"}},\"id\":\"71664\",\"type\":\"ColumnDataSource\"},{\"attributes\":{},\"id\":\"71684\",\"type\":\"BasicTickFormatter\"},{\"attributes\":{},\"id\":\"71648\",\"type\":\"PanTool\"},{\"attributes\":{\"source\":{\"id\":\"71664\"}},\"id\":\"71671\",\"type\":\"CDSView\"},{\"attributes\":{\"format\":\"0,0.0[00000]\"},\"id\":\"71933\",\"type\":\"NumberFormatter\"},{\"attributes\":{},\"id\":\"71954\",\"type\":\"NumberEditor\"},{\"attributes\":{},\"id\":\"71665\",\"type\":\"Selection\"},{\"attributes\":{},\"id\":\"71949\",\"type\":\"NumberEditor\"},{\"attributes\":{},\"id\":\"71640\",\"type\":\"BasicTicker\"},{\"attributes\":{\"bottom\":{\"value\":0},\"fill_alpha\":{\"value\":0.1},\"fill_color\":{\"value\":\"#00fff0\"},\"left\":{\"field\":\"left\"},\"line_alpha\":{\"value\":0.1},\"right\":{\"field\":\"right\"},\"top\":{\"field\":\"top\"}},\"id\":\"71668\",\"type\":\"Quad\"},{\"attributes\":{\"axis\":{\"id\":\"71639\"},\"grid_line_color\":null,\"ticker\":null},\"id\":\"71642\",\"type\":\"Grid\"},{\"attributes\":{},\"id\":\"71661\",\"type\":\"BasicTickFormatter\"},{\"attributes\":{\"data\":{\"A_25_percent\":{\"__ndarray__\":\"UrgehetxXsA=\",\"dtype\":\"float64\",\"order\":\"little\",\"shape\":[1]},\"A_50_percent\":{\"__ndarray__\":\"j8L1KFyfXcA=\",\"dtype\":\"float64\",\"order\":\"little\",\"shape\":[1]},\"A_75_percent\":{\"__ndarray__\":\"AAAAAACAXcA=\",\"dtype\":\"float64\",\"order\":\"little\",\"shape\":[1]},\"count\":{\"__ndarray__\":\"AAAAAAAg0EA=\",\"dtype\":\"float64\",\"order\":\"little\",\"shape\":[1]},\"max\":{\"__ndarray__\":\"rkfhehSeXMA=\",\"dtype\":\"float64\",\"order\":\"little\",\"shape\":[1]},\"mean\":{\"__ndarray__\":\"pHA9CtfjXcA=\",\"dtype\":\"float64\",\"order\":\"little\",\"shape\":[1]},\"min\":{\"__ndarray__\":\"ZmZmZmYWX8A=\",\"dtype\":\"float64\",\"order\":\"little\",\"shape\":[1]},\"std\":{\"__ndarray__\":\"AAAAAAAAAEA=\",\"dtype\":\"float64\",\"order\":\"little\",\"shape\":[1]}},\"selected\":{\"id\":\"71767\"},\"selection_policy\":{\"id\":\"71824\"}},\"id\":\"71766\",\"type\":\"ColumnDataSource\"},{\"attributes\":{},\"id\":\"71693\",\"type\":\"UnionRenderers\"},{\"attributes\":{\"data_source\":{\"id\":\"71664\"},\"glyph\":{\"id\":\"71667\"},\"hover_glyph\":null,\"muted_glyph\":{\"id\":\"71669\"},\"nonselection_glyph\":{\"id\":\"71668\"},\"selection_glyph\":null,\"view\":{\"id\":\"71671\"}},\"id\":\"71670\",\"type\":\"GlyphRenderer\"},{\"attributes\":{\"margin\":[5,5,5,5],\"name\":\"HSpacer187551\",\"sizing_mode\":\"stretch_width\"},\"id\":\"72003\",\"type\":\"Spacer\"},{\"attributes\":{\"format\":\"0,0.0[00000]\"},\"id\":\"71953\",\"type\":\"NumberFormatter\"},{\"attributes\":{\"source\":{\"id\":\"71766\"}},\"id\":\"71809\",\"type\":\"CDSView\"},{\"attributes\":{\"data_source\":{\"id\":\"71672\"},\"glyph\":{\"id\":\"71675\"},\"hover_glyph\":null,\"muted_glyph\":{\"id\":\"71677\"},\"nonselection_glyph\":{\"id\":\"71676\"},\"selection_glyph\":null,\"view\":{\"id\":\"71679\"},\"y_range_name\":\"twiny\"},\"id\":\"71678\",\"type\":\"GlyphRenderer\"},{\"attributes\":{\"children\":[{\"id\":\"71827\"},{\"id\":\"71825\"}]},\"id\":\"71828\",\"type\":\"Column\"},{\"attributes\":{},\"id\":\"71649\",\"type\":\"WheelZoomTool\"},{\"attributes\":{\"editor\":{\"id\":\"71954\"},\"field\":\"A_25_percent\",\"formatter\":{\"id\":\"71953\"},\"title\":\"25%\"},\"id\":\"71955\",\"type\":\"TableColumn\"},{\"attributes\":{\"axis_label\":\"Frequency\",\"bounds\":\"auto\",\"formatter\":{\"id\":\"71663\"},\"major_label_orientation\":\"horizontal\",\"ticker\":{\"id\":\"71644\"}},\"id\":\"71643\",\"type\":\"LinearAxis\"},{\"attributes\":{\"children\":[{\"id\":\"71626\"},{\"id\":\"71830\"},{\"id\":\"72001\"}],\"margin\":[0,0,0,0],\"name\":\"Row187557\"},\"id\":\"71625\",\"type\":\"Row\"},{\"attributes\":{\"bottom\":{\"value\":0},\"fill_alpha\":{\"value\":0.2},\"fill_color\":{\"value\":\"#00fff0\"},\"left\":{\"field\":\"left\"},\"line_alpha\":{\"value\":0.2},\"right\":{\"field\":\"right\"},\"top\":{\"field\":\"top\"}},\"id\":\"71669\",\"type\":\"Quad\"},{\"attributes\":{\"editor\":{\"id\":\"71934\"},\"field\":\"count\",\"formatter\":{\"id\":\"71933\"},\"title\":\"count\"},\"id\":\"71935\",\"type\":\"TableColumn\"},{\"attributes\":{\"active_drag\":\"auto\",\"active_inspect\":\"auto\",\"active_multi\":null,\"active_scroll\":\"auto\",\"active_tap\":\"auto\",\"tools\":[{\"id\":\"71629\"},{\"id\":\"71647\"},{\"id\":\"71648\"},{\"id\":\"71649\"},{\"id\":\"71650\"},{\"id\":\"71651\"}]},\"id\":\"71653\",\"type\":\"Toolbar\"},{\"attributes\":{},\"id\":\"71964\",\"type\":\"NumberEditor\"},{\"attributes\":{\"toolbar\":{\"id\":\"71826\"},\"toolbar_location\":\"above\"},\"id\":\"71827\",\"type\":\"ToolbarBox\"},{\"attributes\":{},\"id\":\"71934\",\"type\":\"NumberEditor\"},{\"attributes\":{\"children\":[{\"id\":\"72003\"},{\"id\":\"72004\"},{\"id\":\"72006\"}],\"margin\":[0,0,0,0],\"name\":\"Row187553\"},\"id\":\"72002\",\"type\":\"Row\"},{\"attributes\":{},\"id\":\"71959\",\"type\":\"NumberEditor\"},{\"attributes\":{\"axis_label\":\"longitude_density, y\",\"formatter\":{\"id\":\"71684\"},\"ticker\":{\"id\":\"71683\"},\"y_range_name\":\"twiny\"},\"id\":\"71681\",\"type\":\"LinearAxis\"},{\"attributes\":{\"editor\":{\"id\":\"71949\"},\"field\":\"min\",\"formatter\":{\"id\":\"71948\"},\"title\":\"min\"},\"id\":\"71950\",\"type\":\"TableColumn\"},{\"attributes\":{\"axis\":{\"id\":\"71643\"},\"dimension\":1,\"grid_line_color\":null,\"ticker\":null},\"id\":\"71646\",\"type\":\"Grid\"},{\"attributes\":{},\"id\":\"71939\",\"type\":\"NumberEditor\"},{\"attributes\":{},\"id\":\"71644\",\"type\":\"BasicTicker\"},{\"attributes\":{\"editor\":{\"id\":\"71959\"},\"field\":\"A_50_percent\",\"formatter\":{\"id\":\"71958\"},\"title\":\"50%\"},\"id\":\"71960\",\"type\":\"TableColumn\"},{\"attributes\":{},\"id\":\"71767\",\"type\":\"Selection\"},{\"attributes\":{\"margin\":[5,5,5,5],\"name\":\"HSpacer187552\",\"sizing_mode\":\"stretch_width\"},\"id\":\"72006\",\"type\":\"Spacer\"},{\"attributes\":{\"children\":[{\"id\":\"71623\"},{\"id\":\"71624\"},{\"id\":\"72007\"}],\"margin\":[0,0,0,0],\"name\":\"Row187545\"},\"id\":\"71622\",\"type\":\"Row\"},{\"attributes\":{\"format\":\"0,0.0[00000]\"},\"id\":\"71958\",\"type\":\"NumberFormatter\"},{\"attributes\":{\"editor\":{\"id\":\"71939\"},\"field\":\"mean\",\"formatter\":{\"id\":\"71938\"},\"title\":\"mean\"},\"id\":\"71940\",\"type\":\"TableColumn\"},{\"attributes\":{\"format\":\"0,0.0[00000]\"},\"id\":\"71943\",\"type\":\"NumberFormatter\"},{\"attributes\":{\"bottom_units\":\"screen\",\"fill_alpha\":0.5,\"fill_color\":\"lightgrey\",\"left_units\":\"screen\",\"level\":\"overlay\",\"line_alpha\":1.0,\"line_color\":\"black\",\"line_dash\":[4,4],\"line_width\":2,\"right_units\":\"screen\",\"top_units\":\"screen\"},\"id\":\"71652\",\"type\":\"BoxAnnotation\"},{\"attributes\":{},\"id\":\"71673\",\"type\":\"Selection\"},{\"attributes\":{\"editor\":{\"id\":\"71964\"},\"field\":\"A_75_percent\",\"formatter\":{\"id\":\"71963\"},\"title\":\"75%\"},\"id\":\"71965\",\"type\":\"TableColumn\"},{\"attributes\":{\"margin\":[5,5,5,5],\"name\":\"HSpacer187554\",\"sizing_mode\":\"stretch_width\"},\"id\":\"71623\",\"type\":\"Spacer\"},{\"attributes\":{\"end\":4323.81,\"reset_end\":4709.099999449752,\"reset_start\":0.0,\"tags\":[[[\"Frequency\",\"Frequency\",null]]]},\"id\":\"71628\",\"type\":\"Range1d\"},{\"attributes\":{},\"id\":\"71647\",\"type\":\"SaveTool\"},{\"attributes\":{},\"id\":\"71663\",\"type\":\"BasicTickFormatter\"},{\"attributes\":{\"format\":\"0,0.0[00000]\"},\"id\":\"71963\",\"type\":\"NumberFormatter\"},{\"attributes\":{},\"id\":\"71683\",\"type\":\"BasicTicker\"},{\"attributes\":{\"margin\":[20,20,20,20],\"min_width\":250,\"options\":[\"longitude\",\"latitude\",\"housing_median_age\",\"total_rooms\",\"total_bedrooms\",\"population\",\"households\",\"median_income\"],\"title\":\"col\",\"value\":\"longitude\",\"width\":250},\"id\":\"72005\",\"type\":\"Select\"},{\"attributes\":{},\"id\":\"71635\",\"type\":\"LinearScale\"},{\"attributes\":{},\"id\":\"71691\",\"type\":\"UnionRenderers\"},{\"attributes\":{},\"id\":\"71969\",\"type\":\"NumberEditor\"},{\"attributes\":{\"end\":0.404541869763214},\"id\":\"71680\",\"type\":\"Range1d\"},{\"attributes\":{\"toolbars\":[{\"id\":\"71653\"}],\"tools\":[{\"id\":\"71629\"},{\"id\":\"71647\"},{\"id\":\"71648\"},{\"id\":\"71649\"},{\"id\":\"71650\"},{\"id\":\"71651\"}]},\"id\":\"71826\",\"type\":\"ProxyToolbar\"},{\"attributes\":{\"data\":{\"x\":{\"__ndarray__\":\"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\",\"dtype\":\"float64\",\"order\":\"little\",\"shape\":[200]},\"y\":{\"__ndarray__\":\"AAAAAAAAAAAAAAAAAAAAAAAAAAAAAAAAAAAAAAAAAAAAAAAAAAAAAAAAAAAAAAAAAAAAAAAAAAAAAAAAAAAAAAAAAAAAAAAAAAAAAAAAAAAAAAAAAAAAAAAAAAAAAAAAAAAAAAAAAAAAAAAAAAAAAAAAAAAAAAAAAAAAAAAAAAAAAAAAAAAAAAAAAAAAAAAAAAAAAAAAAAAAAAAAAAAAAAAAAAAAAAAAAAAAAAAAAAAAAAAAAAAAAAAAAAAAAAAAAAAAAAAAAAAAAAAAAAAAAAAAAAAAAAAAAAAAAAAAAAAAAAAAAAAAAAAAAAAAAAAAAAAAAAAAAAAAAAAAAAAAAAAAAAAAAAAAAAAAAAAAAAAAAAAAAAAAAAAAAAAAAAAAAAAAAAAAAAAAAAAAAAAAAAAAAAAAAAAAAAAAAAAAAAAAAAAAAAAAAAAAAAAAAAAAAAAAAAAAAAAAAAAAAAAAAAAAAAAAAAAAAAAAAAAAAAAAAAAAAAAAAAAAAAAAAAAAAAAAAAAAAAAAAAAAAAAAAAAAAAAAAAAAAAAAAAAAAAAAAAAAAAAAAAAAAAAAAAAAAAAAAAAAAAAAAAAAAAAAAAAAAAAAAAAAAAAAAAAAAAAAAAAAAAAAAAAAAAAAAAAAAAAAAAAAAAAAAAAAAAAAAAAAAAAAAAAAAAAAAAAAAAAAAAAAAAAAAAAAAAAAAAAAAAAAAAAAAAAAAAAAAAAAAAAAAAAAAAAAAAAAAAAAAAAAAAAAAAAAAAAAAAAAAAAAAAAAAAAAAAAAAAAAAAAAAAAAAAAAAAAAAAAAAAAAAAAAAAAAAAAAAAAAAAAAAAAAAAAAAAAAAAAAAAAAAAAAAAAAAAAAAAAAAAAAAAAAAAAAAAAAAAAAAAAAAAAAAAAAAAAAAAAAAAAAAAAAAAAAAAAAAAAAAAAAAAAAAAAAAAAAAAAAAAAAAAAAAAAAAAAAAAAAAAAAAAAAAAAAAAAAAAAAAAAAAAAAAAAAAAAAAAAAAAAAAAAAAAAAAAAAAAAAAAAAAAAAAAAAAAAAAAAAAAAAAAAAAAAAAAAAAAAAAABAJPvZPRTXPu1r/5HCsfQ+dJrC892xDz/aqrpbMrskP50wj2neKzc/nJorvVIkRj+FLwQBQx1SP/uWVWuRdFk/6RuNj3f1Xj/V/zaaqZ1gPxCi9sZziWA/B1E43THkYD8P9Ng/3ehjP5swr4KaJ2s/FuuASr4jcz+7JqvwYFF5P3aH0gvyOn4/N2HzUvJSgD8Xsu9I6HqAPzOjYBDagoA/VIsf0nt9gT8j9xkupxWEP1QYSdRroIg/LRosN733jz90OlUVclOWP1kG3CSn06A/rj6n5eQ9qj/bj9/8s+SzP1ZUFKf//bs/oq50hgziwT8hZmDRvbjEP/gTz6fbKMY/eWCD6Ge6xj8prrCZn6LHP/hrTuZnHMo/xN4FxEO7zj8IdtKO6YrSP5euaI0G7dU/gqzCof+W2D+tAyfdY6LZP/l/uDmyiNg/OtYhQbpq1T+jNo3iFBPRP2Ry1+CLPck/kBNwrC32wT8OBNMMJzW6PwTP1nzI0rQ/sbzdehc/sj94Pv2nzBaxP+NaEOWJm7A/xzEMyK2GsD9p73U5D56wP+412LCFhLA/HJhTBo7Qrz/aCzAy6JatP7MBQC9pHKs/4NsgTw9XqT+GiSjp59WoP/cI5oE/mKk/Cmy3EtBhqz+ejVbeIyWuP9C6PQzrD7E/ZHJVl+zLsz9wYIezHTq3Py47KRmqA7s/uE7fEaGpvj9x9uN2gvLAPxG0Qq8JgcI/FQnX9JdnxD9+CzGWsf/GP0EdlbkyNso/pw+BbuhszT9WN8/j4LfPP+7hdAYuI9A/NIw7utq0zj9mbGti6yrLP3h8F80BScY/AG/U71PxwD9i9Jgx5fi3PyziD5kd5K8/nECugc1SpD8lliwUboeZP3p9t7x0YpA/LJDAmyZfhj9TOkXd9vCAP2ap0h2aj30/XoZkPOnnfT8Apx89qayAPxPKtZVT4oI/WaJnkO4/hD9Py/QGsaiDP1rNXsTO14A/lejMsGEceT95BDHSjShwPxLRa0Fu32E/xCbO52/zUD8jk4Mrzok7P/p2ABqUJiM/oPpsodPNBj/4xicBTUHnPg==\",\"dtype\":\"float64\",\"order\":\"little\",\"shape\":[200]}},\"selected\":{\"id\":\"71673\"},\"selection_policy\":{\"id\":\"71693\"}},\"id\":\"71672\",\"type\":\"ColumnDataSource\"},{\"attributes\":{\"callback\":null,\"renderers\":[{\"id\":\"71678\"}],\"tags\":[\"hv_created\"],\"tooltips\":[[\"longitude\",\"@{longitude}\"],[\"Density\",\"@{longitude_density}\"]]},\"id\":\"71629\",\"type\":\"HoverTool\"},{\"attributes\":{\"format\":\"0,0.0[00000]\"},\"id\":\"71938\",\"type\":\"NumberFormatter\"},{\"attributes\":{\"fill_alpha\":0.5,\"fill_color\":\"#1f77b3\",\"line_alpha\":1,\"x\":{\"field\":\"x\"},\"y\":{\"field\":\"y\"}},\"id\":\"71676\",\"type\":\"Patch\"},{\"attributes\":{\"editor\":{\"id\":\"71969\"},\"field\":\"max\",\"formatter\":{\"id\":\"71968\"},\"title\":\"max\"},\"id\":\"71970\",\"type\":\"TableColumn\"},{\"attributes\":{\"children\":[{\"id\":\"71829\"},{\"id\":\"71828\"}]},\"id\":\"71830\",\"type\":\"Column\"},{\"attributes\":{\"children\":[[{\"id\":\"71630\"},0,0],[{\"id\":\"71808\"},1,0]]},\"id\":\"71825\",\"type\":\"GridBox\"},{\"attributes\":{\"axis_label\":\"longitude\",\"bounds\":\"auto\",\"formatter\":{\"id\":\"71661\"},\"major_label_orientation\":\"horizontal\",\"ticker\":{\"id\":\"71640\"}},\"id\":\"71639\",\"type\":\"LinearAxis\"},{\"attributes\":{\"fill_alpha\":0.5,\"fill_color\":\"#1f77b3\",\"x\":{\"field\":\"x\"},\"y\":{\"field\":\"y\"}},\"id\":\"71675\",\"type\":\"Patch\"},{\"attributes\":{},\"id\":\"71651\",\"type\":\"ResetTool\"},{\"attributes\":{\"margin\":[5,5,5,5],\"name\":\"HSpacer187556\",\"sizing_mode\":\"stretch_width\"},\"id\":\"72001\",\"type\":\"Spacer\"},{\"attributes\":{},\"id\":\"71637\",\"type\":\"LinearScale\"},{\"attributes\":{\"bottom\":{\"value\":0},\"fill_color\":{\"value\":\"#00fff0\"},\"left\":{\"field\":\"left\"},\"right\":{\"field\":\"right\"},\"top\":{\"field\":\"top\"}},\"id\":\"71667\",\"type\":\"Quad\"},{\"attributes\":{\"fill_alpha\":0.2,\"fill_color\":\"#1f77b3\",\"line_alpha\":0.2,\"x\":{\"field\":\"x\"},\"y\":{\"field\":\"y\"}},\"id\":\"71677\",\"type\":\"Patch\"},{\"attributes\":{\"source\":{\"id\":\"71672\"}},\"id\":\"71679\",\"type\":\"CDSView\"},{\"attributes\":{},\"id\":\"71944\",\"type\":\"NumberEditor\"},{\"attributes\":{\"end\":-113.02791950008196,\"reset_end\":-113.02791950008196,\"reset_start\":-125.79208049991803,\"start\":-125.79208049991803,\"tags\":[[[\"x\",\"x\",null]]]},\"id\":\"71627\",\"type\":\"Range1d\"},{\"attributes\":{\"editor\":{\"id\":\"71944\"},\"field\":\"std\",\"formatter\":{\"id\":\"71943\"},\"title\":\"std\"},\"id\":\"71945\",\"type\":\"TableColumn\"},{\"attributes\":{\"align\":null,\"below\":[{\"id\":\"71639\"}],\"center\":[{\"id\":\"71642\"},{\"id\":\"71646\"}],\"extra_y_ranges\":{\"twiny\":{\"id\":\"71680\"}},\"left\":[{\"id\":\"71643\"}],\"margin\":null,\"min_border_bottom\":10,\"min_border_left\":10,\"min_border_right\":10,\"min_border_top\":10,\"plot_height\":300,\"renderers\":[{\"id\":\"71670\"},{\"id\":\"71678\"}],\"right\":[{\"id\":\"71681\"}],\"sizing_mode\":\"fixed\",\"title\":{\"id\":\"71631\"},\"toolbar\":{\"id\":\"71653\"},\"toolbar_location\":null,\"x_range\":{\"id\":\"71627\"},\"x_scale\":{\"id\":\"71635\"},\"y_range\":{\"id\":\"71628\"},\"y_scale\":{\"id\":\"71637\"}},\"id\":\"71630\",\"subtype\":\"Figure\",\"type\":\"Plot\"},{\"attributes\":{\"format\":\"0,0.0[00000]\"},\"id\":\"71968\",\"type\":\"NumberFormatter\"},{\"attributes\":{\"style\":{\"white-space\":\"nowrap\"},\"text\":\"<span style=\\\"color:black;font-family:Arial;font-style:bold;font-weight:bold;font-size:12pt\\\">col: longitude</span>\",\"width\":450},\"id\":\"71829\",\"type\":\"Div\"},{\"attributes\":{\"children\":[{\"id\":\"72005\"}],\"css_classes\":[\"panel-widget-box\"],\"margin\":[5,5,5,5],\"name\":\"WidgetBox187546\"},\"id\":\"72004\",\"type\":\"Column\"},{\"attributes\":{\"overlay\":{\"id\":\"71652\"}},\"id\":\"71650\",\"type\":\"BoxZoomTool\"},{\"attributes\":{\"children\":[{\"id\":\"71625\"},{\"id\":\"72002\"}],\"margin\":[0,0,0,0],\"name\":\"Column187558\"},\"id\":\"71624\",\"type\":\"Column\"},{\"attributes\":{\"format\":\"0,0.0[00000]\"},\"id\":\"71948\",\"type\":\"NumberFormatter\"},{\"attributes\":{\"margin\":[5,5,5,5],\"name\":\"HSpacer187555\",\"sizing_mode\":\"stretch_width\"},\"id\":\"71626\",\"type\":\"Spacer\"},{\"attributes\":{\"text\":\"Density Plot for longitude\",\"text_color\":{\"value\":\"black\"},\"text_font_size\":{\"value\":\"12pt\"}},\"id\":\"71631\",\"type\":\"Title\"},{\"attributes\":{\"margin\":[5,5,5,5],\"name\":\"HSpacer187559\",\"sizing_mode\":\"stretch_width\"},\"id\":\"72007\",\"type\":\"Spacer\"},{\"attributes\":{},\"id\":\"71824\",\"type\":\"UnionRenderers\"},{\"attributes\":{\"client_comm_id\":\"14c9c9b6e84b4475913cb9beb53c94bc\",\"comm_id\":\"3f9c389359504748b29047f94f7bb7f3\",\"plot_id\":\"71622\"},\"id\":\"72050\",\"type\":\"panel.models.comm_manager.CommManager\"},{\"attributes\":{\"columns\":[{\"id\":\"71935\"},{\"id\":\"71940\"},{\"id\":\"71945\"},{\"id\":\"71950\"},{\"id\":\"71955\"},{\"id\":\"71960\"},{\"id\":\"71965\"},{\"id\":\"71970\"}],\"height\":60,\"reorderable\":false,\"source\":{\"id\":\"71766\"},\"view\":{\"id\":\"71809\"}},\"id\":\"71808\",\"type\":\"DataTable\"}],\"root_ids\":[\"71622\",\"72050\"]},\"title\":\"Bokeh Application\",\"version\":\"2.2.3\"}};\n",
       "  var render_items = [{\"docid\":\"548d4245-4064-4470-963a-77cbd9fe9aae\",\"root_ids\":[\"71622\"],\"roots\":{\"71622\":\"867ef056-c46e-46da-84da-ef1828a36a1b\"}}];\n",
       "  root.Bokeh.embed.embed_items_notebook(docs_json, render_items);\n",
       "  }\n",
       "if (root.Bokeh !== undefined) {\n",
       "    embed_document(root);\n",
       "  } else {\n",
       "    var attempts = 0;\n",
       "    var timer = setInterval(function(root) {\n",
       "      if (root.Bokeh !== undefined) {\n",
       "        clearInterval(timer);\n",
       "        embed_document(root);\n",
       "      } else if (document.readyState == \"complete\") {\n",
       "        attempts++;\n",
       "        if (attempts > 100) {\n",
       "          clearInterval(timer);\n",
       "          console.log(\"Bokeh: ERROR: Unable to run BokehJS code because BokehJS library is missing\");\n",
       "        }\n",
       "      }\n",
       "    }, 10, root)\n",
       "  }\n",
       "})(window);</script>"
      ],
      "text/plain": [
       ":DynamicMap   [col]\n",
       "   :Layout\n",
       "      .Overlay.I :Overlay\n",
       "         .Histogram.I    :Histogram   [x]   (Frequency)\n",
       "         .Distribution.I :Distribution   [longitude]   (Density)\n",
       "      .Table.I   :Table   [count,mean,std,min,25%,50%,75%,max]"
      ]
     },
     "execution_count": 197,
     "metadata": {
      "application/vnd.holoviews_exec.v0+json": {
       "id": "71622"
      }
     },
     "output_type": "execute_result"
    }
   ],
   "source": [
    "cols = ['longitude', 'latitude', 'housing_median_age', 'total_rooms',\n",
    "        'total_bedrooms', 'population', 'households', 'median_income']\n",
    "out = eda.get_density_plots(train_X, cols=cols)\n",
    "out"
   ]
  },
  {
   "cell_type": "code",
   "execution_count": 198,
   "metadata": {},
   "outputs": [],
   "source": [
    "# save the plots are html\n",
    "reports.create_report({'univariate': out}, name='feature_analysis_univariate')"
   ]
  },
  {
   "cell_type": "code",
   "execution_count": 199,
   "metadata": {},
   "outputs": [
    {
     "name": "stderr",
     "output_type": "stream",
     "text": [
      "Error: Must have equal len keys and value when setting with an iterable"
     ]
    }
   ],
   "source": [
    "reports.feature_analysis(train_X,'./feature_analysis_report.html')"
   ]
  },
  {
   "cell_type": "markdown",
   "metadata": {},
   "source": [
    "### 3.2.2 Bivariate - mutual interactions"
   ]
  },
  {
   "cell_type": "markdown",
   "metadata": {},
   "source": [
    "- Find columns with high correlations and drop them"
   ]
  },
  {
   "cell_type": "code",
   "execution_count": 200,
   "metadata": {},
   "outputs": [
    {
     "data": {
      "text/html": [
       "<div>\n",
       "<style scoped>\n",
       "    .dataframe tbody tr th:only-of-type {\n",
       "        vertical-align: middle;\n",
       "    }\n",
       "\n",
       "    .dataframe tbody tr th {\n",
       "        vertical-align: top;\n",
       "    }\n",
       "\n",
       "    .dataframe thead th {\n",
       "        text-align: right;\n",
       "    }\n",
       "</style>\n",
       "<table border=\"1\" class=\"dataframe\">\n",
       "  <thead>\n",
       "    <tr style=\"text-align: right;\">\n",
       "      <th></th>\n",
       "      <th>Variable 1</th>\n",
       "      <th>Variable 2</th>\n",
       "      <th>Corr Coef</th>\n",
       "      <th>Abs Corr Coef</th>\n",
       "    </tr>\n",
       "  </thead>\n",
       "  <tbody>\n",
       "    <tr>\n",
       "      <th>0</th>\n",
       "      <td>households</td>\n",
       "      <td>total_bedrooms</td>\n",
       "      <td>0.973557</td>\n",
       "      <td>0.973557</td>\n",
       "    </tr>\n",
       "    <tr>\n",
       "      <th>1</th>\n",
       "      <td>latitude</td>\n",
       "      <td>longitude</td>\n",
       "      <td>-0.924918</td>\n",
       "      <td>0.924918</td>\n",
       "    </tr>\n",
       "    <tr>\n",
       "      <th>2</th>\n",
       "      <td>total_bedrooms</td>\n",
       "      <td>total_rooms</td>\n",
       "      <td>0.919087</td>\n",
       "      <td>0.919087</td>\n",
       "    </tr>\n",
       "    <tr>\n",
       "      <th>3</th>\n",
       "      <td>households</td>\n",
       "      <td>total_rooms</td>\n",
       "      <td>0.913502</td>\n",
       "      <td>0.913502</td>\n",
       "    </tr>\n",
       "    <tr>\n",
       "      <th>4</th>\n",
       "      <td>households</td>\n",
       "      <td>population</td>\n",
       "      <td>0.907971</td>\n",
       "      <td>0.907971</td>\n",
       "    </tr>\n",
       "    <tr>\n",
       "      <th>5</th>\n",
       "      <td>population</td>\n",
       "      <td>total_bedrooms</td>\n",
       "      <td>0.873697</td>\n",
       "      <td>0.873697</td>\n",
       "    </tr>\n",
       "    <tr>\n",
       "      <th>6</th>\n",
       "      <td>population</td>\n",
       "      <td>total_rooms</td>\n",
       "      <td>0.844430</td>\n",
       "      <td>0.844430</td>\n",
       "    </tr>\n",
       "    <tr>\n",
       "      <th>7</th>\n",
       "      <td>ocean_proximity_&lt;1H OCEAN</td>\n",
       "      <td>ocean_proximity_INLAND</td>\n",
       "      <td>-0.606939</td>\n",
       "      <td>0.606939</td>\n",
       "    </tr>\n",
       "  </tbody>\n",
       "</table>\n",
       "</div>"
      ],
      "text/plain": [
       "                  Variable 1              Variable 2  Corr Coef  Abs Corr Coef\n",
       "0                 households          total_bedrooms   0.973557       0.973557\n",
       "1                   latitude               longitude  -0.924918       0.924918\n",
       "2             total_bedrooms             total_rooms   0.919087       0.919087\n",
       "3                 households             total_rooms   0.913502       0.913502\n",
       "4                 households              population   0.907971       0.907971\n",
       "5                 population          total_bedrooms   0.873697       0.873697\n",
       "6                 population             total_rooms   0.844430       0.844430\n",
       "7  ocean_proximity_<1H OCEAN  ocean_proximity_INLAND  -0.606939       0.606939"
      ]
     },
     "execution_count": 200,
     "metadata": {},
     "output_type": "execute_result"
    }
   ],
   "source": [
    "out = eda.get_correlation_table(train_X)\n",
    "out[out[\"Abs Corr Coef\"] > 0.6]"
   ]
  },
  {
   "cell_type": "code",
   "execution_count": 201,
   "metadata": {},
   "outputs": [
    {
     "name": "stdout",
     "output_type": "stream",
     "text": [
      "CPU times: user 18.9 s, sys: 20.9 s, total: 39.8 s\n",
      "Wall time: 15 s\n"
     ]
    }
   ],
   "source": [
    "%%time\n",
    "# create reports as needed\n",
    "cols = train_X.columns.to_list()\n",
    "all_plots = {}\n",
    "for ii, col1 in enumerate(cols): \n",
    "    for jj in range(ii+1, len(cols)):\n",
    "        col2 = cols[jj]\n",
    "        out = eda.get_bivariate_plots(train_X, x_cols=[col1], y_cols=[col2])\n",
    "        all_plots.update({f'{col2} vs {col1}': out})\n",
    "\n",
    "reports.create_report(all_plots, name='feature_analysis_bivariate')"
   ]
  },
  {
   "cell_type": "code",
   "execution_count": 202,
   "metadata": {},
   "outputs": [
    {
     "name": "stderr",
     "output_type": "stream",
     "text": [
      "this method is deprecated in favour of `Styler.to_html()`\n"
     ]
    }
   ],
   "source": [
    "reports.feature_interactions(train_X,'./feature_interaction_report.html')"
   ]
  },
  {
   "cell_type": "markdown",
   "metadata": {},
   "source": [
    "### 3.2.3 Key Drivers - Interaction with Target variable"
   ]
  },
  {
   "cell_type": "code",
   "execution_count": 203,
   "metadata": {},
   "outputs": [
    {
     "data": {},
     "metadata": {},
     "output_type": "display_data"
    },
    {
     "data": {},
     "metadata": {},
     "output_type": "display_data"
    },
    {
     "data": {
      "application/vnd.holoviews_exec.v0+json": "",
      "text/html": [
       "<div id='92377'>\n",
       "\n",
       "\n",
       "\n",
       "\n",
       "\n",
       "  <div class=\"bk-root\" id=\"c309ef03-5a0d-4509-af8c-98cf15a8461a\" data-root-id=\"92377\"></div>\n",
       "</div>\n",
       "<script type=\"application/javascript\">(function(root) {\n",
       "  function embed_document(root) {\n",
       "  var docs_json = {\"b180a4fc-fd45-4967-8dfa-12c11f767983\":{\"roots\":{\"references\":[{\"attributes\":{},\"id\":\"92395\",\"type\":\"CategoricalTicker\"},{\"attributes\":{\"axis\":{\"id\":\"92394\"},\"dimension\":1,\"grid_line_color\":null,\"ticker\":null},\"id\":\"92396\",\"type\":\"Grid\"},{\"attributes\":{},\"id\":\"92490\",\"type\":\"UnionRenderers\"},{\"attributes\":{\"align\":null,\"below\":[{\"id\":\"92390\"}],\"center\":[{\"id\":\"92393\"},{\"id\":\"92396\"}],\"left\":[{\"id\":\"92394\"}],\"margin\":null,\"min_border_bottom\":10,\"min_border_left\":10,\"min_border_right\":10,\"min_border_top\":10,\"plot_height\":300,\"plot_width\":700,\"renderers\":[{\"id\":\"92416\"}],\"sizing_mode\":\"fixed\",\"title\":{\"id\":\"92382\"},\"toolbar\":{\"id\":\"92403\"},\"x_range\":{\"id\":\"92378\"},\"x_scale\":{\"id\":\"92386\"},\"y_range\":{\"id\":\"92379\"},\"y_scale\":{\"id\":\"92388\"}},\"id\":\"92381\",\"subtype\":\"Figure\",\"type\":\"Plot\"},{\"attributes\":{},\"id\":\"92452\",\"type\":\"BasicTicker\"},{\"attributes\":{\"end\":1.0579159042840651,\"reset_end\":1.0579159042840651,\"reset_start\":0.0,\"tags\":[[[\"Mutual_information_with_Target\",\"Mutual_information_with_Target\",null]]]},\"id\":\"92439\",\"type\":\"Range1d\"},{\"attributes\":{},\"id\":\"92391\",\"type\":\"BasicTicker\"},{\"attributes\":{\"source\":{\"id\":\"92471\"}},\"id\":\"92478\",\"type\":\"CDSView\"},{\"attributes\":{\"client_comm_id\":\"7a59c6a35fba41cd9e930b1fc3384547\",\"comm_id\":\"41e7bac0d56d428eb2a27cedb02075c6\",\"plot_id\":\"92377\"},\"id\":\"92548\",\"type\":\"panel.models.comm_manager.CommManager\"},{\"attributes\":{\"fill_color\":{\"value\":\"#1f77b3\"},\"height\":{\"value\":0.8},\"right\":{\"field\":\"Pearson_correlation_with_Target\"},\"y\":{\"field\":\"index\"}},\"id\":\"92413\",\"type\":\"HBar\"},{\"attributes\":{\"bottom_units\":\"screen\",\"fill_alpha\":0.5,\"fill_color\":\"lightgrey\",\"left_units\":\"screen\",\"level\":\"overlay\",\"line_alpha\":1.0,\"line_color\":\"black\",\"line_dash\":[4,4],\"line_width\":2,\"right_units\":\"screen\",\"top_units\":\"screen\"},\"id\":\"92463\",\"type\":\"BoxAnnotation\"},{\"attributes\":{\"end\":0.8156442317436541,\"reset_end\":0.8156442317436541,\"reset_start\":-0.6003803855169763,\"start\":-0.6003803855169763,\"tags\":[[[\"Pearson_correlation_with_Target\",\"Pearson_correlation_with_Target\",null]]]},\"id\":\"92378\",\"type\":\"Range1d\"},{\"attributes\":{\"text\":\"Mutual Information with Target\",\"text_color\":{\"value\":\"black\"},\"text_font_size\":{\"value\":\"12pt\"}},\"id\":\"92443\",\"type\":\"Title\"},{\"attributes\":{},\"id\":\"92421\",\"type\":\"CategoricalTickFormatter\"},{\"attributes\":{\"child\":{\"id\":\"92381\"},\"name\":\"feature_correlation\",\"title\":\"feature_correlation\"},\"id\":\"92438\",\"type\":\"Panel\"},{\"attributes\":{\"fill_alpha\":{\"value\":0.1},\"fill_color\":{\"value\":\"#1f77b3\"},\"height\":{\"value\":0.8},\"line_alpha\":{\"value\":0.1},\"right\":{\"field\":\"Mutual_information_with_Target\"},\"y\":{\"field\":\"index\"}},\"id\":\"92475\",\"type\":\"HBar\"},{\"attributes\":{\"data\":{\"Mutual_information_with_Target\":{\"__ndarray__\":\"AAAAAAAAAAAA/CcwjeWWPwDOdIeBGKQ/AJKUQQ+6qD8AF1l4NHSuP4DkZvNsNrE/gIcpXcW4sT+A5KKcr8q3P8AHcXmPN8A/wLT2QAO/wT9gIINTUAHbP8D68hIdju4/2PxRmJbG7j8=\",\"dtype\":\"float64\",\"order\":\"little\",\"shape\":[13]},\"index\":[\"ocean_proximity_ISLAND\",\"ocean_proximity_NEAR OCEAN\",\"ocean_proximity_NEAR BAY\",\"housing_median_age\",\"total_bedrooms\",\"households\",\"population\",\"total_rooms\",\"latitude\",\"longitude\",\"median_income\",\"ocean_proximity_<1H OCEAN\",\"ocean_proximity_INLAND\"]},\"selected\":{\"id\":\"92472\"},\"selection_policy\":{\"id\":\"92490\"}},\"id\":\"92471\",\"type\":\"ColumnDataSource\"},{\"attributes\":{\"fill_alpha\":{\"value\":0.1},\"fill_color\":{\"value\":\"#1f77b3\"},\"height\":{\"value\":0.8},\"line_alpha\":{\"value\":0.1},\"right\":{\"field\":\"Pearson_correlation_with_Target\"},\"y\":{\"field\":\"index\"}},\"id\":\"92414\",\"type\":\"HBar\"},{\"attributes\":{\"axis_label\":\"\",\"bounds\":\"auto\",\"formatter\":{\"id\":\"92482\"},\"major_label_orientation\":\"horizontal\",\"ticker\":{\"id\":\"92456\"}},\"id\":\"92455\",\"type\":\"CategoricalAxis\"},{\"attributes\":{},\"id\":\"92456\",\"type\":\"CategoricalTicker\"},{\"attributes\":{\"margin\":[0,0,0,0],\"tabs\":[{\"id\":\"92438\"},{\"id\":\"92499\"}]},\"id\":\"92377\",\"type\":\"Tabs\"},{\"attributes\":{},\"id\":\"92399\",\"type\":\"WheelZoomTool\"},{\"attributes\":{\"data\":{\"Pearson_correlation_with_Target\":{\"__ndarray__\":\"EqhKYEnf3r826jEjLqjCvwKbAHKt/KW/Igwq9S6jnb9WJbHyuTCbP8FMU148xa0/uIaSjEtjsz9fFQsBM3O7P70zp/S7scE/mKAE+tURxD++BmlkHxjEP44ni4WrhNA/lRSXsRVT5j8=\",\"dtype\":\"float64\",\"order\":\"little\",\"shape\":[13]},\"index\":[\"ocean_proximity_INLAND\",\"latitude\",\"longitude\",\"population\",\"ocean_proximity_ISLAND\",\"total_bedrooms\",\"households\",\"housing_median_age\",\"ocean_proximity_NEAR OCEAN\",\"total_rooms\",\"ocean_proximity_NEAR BAY\",\"ocean_proximity_<1H OCEAN\",\"median_income\"]},\"selected\":{\"id\":\"92411\"},\"selection_policy\":{\"id\":\"92429\"}},\"id\":\"92410\",\"type\":\"ColumnDataSource\"},{\"attributes\":{\"axis\":{\"id\":\"92390\"},\"grid_line_color\":null,\"ticker\":null},\"id\":\"92393\",\"type\":\"Grid\"},{\"attributes\":{\"axis_label\":\"Mutual_information_with_Target\",\"bounds\":\"auto\",\"formatter\":{\"id\":\"92480\"},\"major_label_orientation\":\"horizontal\",\"ticker\":{\"id\":\"92452\"}},\"id\":\"92451\",\"type\":\"LinearAxis\"},{\"attributes\":{},\"id\":\"92462\",\"type\":\"ResetTool\"},{\"attributes\":{},\"id\":\"92411\",\"type\":\"Selection\"},{\"attributes\":{\"axis\":{\"id\":\"92455\"},\"dimension\":1,\"grid_line_color\":null,\"ticker\":null},\"id\":\"92457\",\"type\":\"Grid\"},{\"attributes\":{\"axis_label\":\"\",\"bounds\":\"auto\",\"formatter\":{\"id\":\"92421\"},\"major_label_orientation\":\"horizontal\",\"ticker\":{\"id\":\"92395\"}},\"id\":\"92394\",\"type\":\"CategoricalAxis\"},{\"attributes\":{},\"id\":\"92449\",\"type\":\"CategoricalScale\"},{\"attributes\":{\"factors\":[\"ocean_proximity_INLAND\",\"latitude\",\"longitude\",\"population\",\"ocean_proximity_ISLAND\",\"total_bedrooms\",\"households\",\"housing_median_age\",\"ocean_proximity_NEAR OCEAN\",\"total_rooms\",\"ocean_proximity_NEAR BAY\",\"ocean_proximity_<1H OCEAN\",\"median_income\"],\"tags\":[[[\"index\",\"index\",null]]]},\"id\":\"92379\",\"type\":\"FactorRange\"},{\"attributes\":{\"data_source\":{\"id\":\"92410\"},\"glyph\":{\"id\":\"92413\"},\"hover_glyph\":null,\"muted_glyph\":{\"id\":\"92415\"},\"nonselection_glyph\":{\"id\":\"92414\"},\"selection_glyph\":null,\"view\":{\"id\":\"92417\"}},\"id\":\"92416\",\"type\":\"GlyphRenderer\"},{\"attributes\":{},\"id\":\"92398\",\"type\":\"PanTool\"},{\"attributes\":{},\"id\":\"92401\",\"type\":\"ResetTool\"},{\"attributes\":{},\"id\":\"92447\",\"type\":\"LinearScale\"},{\"attributes\":{\"callback\":null,\"renderers\":[{\"id\":\"92416\"}],\"tags\":[\"hv_created\"],\"tooltips\":[[\"index\",\"@{index}\"],[\"Pearson_correlation_with_Target\",\"@{Pearson_correlation_with_Target}\"]]},\"id\":\"92380\",\"type\":\"HoverTool\"},{\"attributes\":{\"active_drag\":\"auto\",\"active_inspect\":\"auto\",\"active_multi\":null,\"active_scroll\":\"auto\",\"active_tap\":\"auto\",\"tools\":[{\"id\":\"92380\"},{\"id\":\"92397\"},{\"id\":\"92398\"},{\"id\":\"92399\"},{\"id\":\"92400\"},{\"id\":\"92401\"}]},\"id\":\"92403\",\"type\":\"Toolbar\"},{\"attributes\":{\"active_drag\":\"auto\",\"active_inspect\":\"auto\",\"active_multi\":null,\"active_scroll\":\"auto\",\"active_tap\":\"auto\",\"tools\":[{\"id\":\"92441\"},{\"id\":\"92458\"},{\"id\":\"92459\"},{\"id\":\"92460\"},{\"id\":\"92461\"},{\"id\":\"92462\"}]},\"id\":\"92464\",\"type\":\"Toolbar\"},{\"attributes\":{\"source\":{\"id\":\"92410\"}},\"id\":\"92417\",\"type\":\"CDSView\"},{\"attributes\":{\"overlay\":{\"id\":\"92463\"}},\"id\":\"92461\",\"type\":\"BoxZoomTool\"},{\"attributes\":{\"axis\":{\"id\":\"92451\"},\"grid_line_color\":null,\"ticker\":null},\"id\":\"92454\",\"type\":\"Grid\"},{\"attributes\":{\"bottom_units\":\"screen\",\"fill_alpha\":0.5,\"fill_color\":\"lightgrey\",\"left_units\":\"screen\",\"level\":\"overlay\",\"line_alpha\":1.0,\"line_color\":\"black\",\"line_dash\":[4,4],\"line_width\":2,\"right_units\":\"screen\",\"top_units\":\"screen\"},\"id\":\"92402\",\"type\":\"BoxAnnotation\"},{\"attributes\":{},\"id\":\"92386\",\"type\":\"LinearScale\"},{\"attributes\":{\"align\":null,\"below\":[{\"id\":\"92451\"}],\"center\":[{\"id\":\"92454\"},{\"id\":\"92457\"}],\"left\":[{\"id\":\"92455\"}],\"margin\":null,\"min_border_bottom\":10,\"min_border_left\":10,\"min_border_right\":10,\"min_border_top\":10,\"plot_height\":300,\"plot_width\":700,\"renderers\":[{\"id\":\"92477\"}],\"sizing_mode\":\"fixed\",\"title\":{\"id\":\"92443\"},\"toolbar\":{\"id\":\"92464\"},\"x_range\":{\"id\":\"92439\"},\"x_scale\":{\"id\":\"92447\"},\"y_range\":{\"id\":\"92379\"},\"y_scale\":{\"id\":\"92449\"}},\"id\":\"92442\",\"subtype\":\"Figure\",\"type\":\"Plot\"},{\"attributes\":{},\"id\":\"92482\",\"type\":\"CategoricalTickFormatter\"},{\"attributes\":{\"child\":{\"id\":\"92442\"},\"name\":\"mutual_information\",\"title\":\"mutual_information\"},\"id\":\"92499\",\"type\":\"Panel\"},{\"attributes\":{},\"id\":\"92459\",\"type\":\"PanTool\"},{\"attributes\":{\"axis_label\":\"Pearson_correlation_with_Target\",\"bounds\":\"auto\",\"formatter\":{\"id\":\"92419\"},\"major_label_orientation\":\"horizontal\",\"ticker\":{\"id\":\"92391\"}},\"id\":\"92390\",\"type\":\"LinearAxis\"},{\"attributes\":{},\"id\":\"92472\",\"type\":\"Selection\"},{\"attributes\":{\"fill_alpha\":{\"value\":0.2},\"fill_color\":{\"value\":\"#1f77b3\"},\"height\":{\"value\":0.8},\"line_alpha\":{\"value\":0.2},\"right\":{\"field\":\"Mutual_information_with_Target\"},\"y\":{\"field\":\"index\"}},\"id\":\"92476\",\"type\":\"HBar\"},{\"attributes\":{},\"id\":\"92429\",\"type\":\"UnionRenderers\"},{\"attributes\":{},\"id\":\"92397\",\"type\":\"SaveTool\"},{\"attributes\":{\"fill_alpha\":{\"value\":0.2},\"fill_color\":{\"value\":\"#1f77b3\"},\"height\":{\"value\":0.8},\"line_alpha\":{\"value\":0.2},\"right\":{\"field\":\"Pearson_correlation_with_Target\"},\"y\":{\"field\":\"index\"}},\"id\":\"92415\",\"type\":\"HBar\"},{\"attributes\":{},\"id\":\"92460\",\"type\":\"WheelZoomTool\"},{\"attributes\":{},\"id\":\"92419\",\"type\":\"BasicTickFormatter\"},{\"attributes\":{},\"id\":\"92458\",\"type\":\"SaveTool\"},{\"attributes\":{},\"id\":\"92388\",\"type\":\"CategoricalScale\"},{\"attributes\":{\"overlay\":{\"id\":\"92402\"}},\"id\":\"92400\",\"type\":\"BoxZoomTool\"},{\"attributes\":{\"fill_color\":{\"value\":\"#1f77b3\"},\"height\":{\"value\":0.8},\"right\":{\"field\":\"Mutual_information_with_Target\"},\"y\":{\"field\":\"index\"}},\"id\":\"92474\",\"type\":\"HBar\"},{\"attributes\":{\"data_source\":{\"id\":\"92471\"},\"glyph\":{\"id\":\"92474\"},\"hover_glyph\":null,\"muted_glyph\":{\"id\":\"92476\"},\"nonselection_glyph\":{\"id\":\"92475\"},\"selection_glyph\":null,\"view\":{\"id\":\"92478\"}},\"id\":\"92477\",\"type\":\"GlyphRenderer\"},{\"attributes\":{\"text\":\"Feature Correlation with Target Function\",\"text_color\":{\"value\":\"black\"},\"text_font_size\":{\"value\":\"12pt\"}},\"id\":\"92382\",\"type\":\"Title\"},{\"attributes\":{},\"id\":\"92480\",\"type\":\"BasicTickFormatter\"},{\"attributes\":{\"callback\":null,\"renderers\":[{\"id\":\"92477\"}],\"tags\":[\"hv_created\"],\"tooltips\":[[\"index\",\"@{index}\"],[\"Mutual_information_with_Target\",\"@{Mutual_information_with_Target}\"]]},\"id\":\"92441\",\"type\":\"HoverTool\"}],\"root_ids\":[\"92377\",\"92548\"]},\"title\":\"Bokeh Application\",\"version\":\"2.2.3\"}};\n",
       "  var render_items = [{\"docid\":\"b180a4fc-fd45-4967-8dfa-12c11f767983\",\"root_ids\":[\"92377\"],\"roots\":{\"92377\":\"c309ef03-5a0d-4509-af8c-98cf15a8461a\"}}];\n",
       "  root.Bokeh.embed.embed_items_notebook(docs_json, render_items);\n",
       "  }\n",
       "if (root.Bokeh !== undefined) {\n",
       "    embed_document(root);\n",
       "  } else {\n",
       "    var attempts = 0;\n",
       "    var timer = setInterval(function(root) {\n",
       "      if (root.Bokeh !== undefined) {\n",
       "        clearInterval(timer);\n",
       "        embed_document(root);\n",
       "      } else if (document.readyState == \"complete\") {\n",
       "        attempts++;\n",
       "        if (attempts > 100) {\n",
       "          clearInterval(timer);\n",
       "          console.log(\"Bokeh: ERROR: Unable to run BokehJS code because BokehJS library is missing\");\n",
       "        }\n",
       "      }\n",
       "    }, 10, root)\n",
       "  }\n",
       "})(window);</script>"
      ],
      "text/plain": [
       "Tabs\n",
       "    [0] HoloViews(Bars, name='feature_correlation')\n",
       "    [1] HoloViews(Bars, name='mutual_information')"
      ]
     },
     "execution_count": 203,
     "metadata": {
      "application/vnd.holoviews_exec.v0+json": {
       "id": "92377"
      }
     },
     "output_type": "execute_result"
    }
   ],
   "source": [
    "out = eda.get_target_correlation(train_X, train_y)\n",
    "display_as_tabs([(k, v) for k,v in out.items()])"
   ]
  },
  {
   "cell_type": "code",
   "execution_count": 204,
   "metadata": {},
   "outputs": [
    {
     "name": "stderr",
     "output_type": "stream",
     "text": [
      "Function get_feature_names is deprecated; get_feature_names is deprecated in 1.0 and will be removed in 1.2. Please use get_feature_names_out instead.\n"
     ]
    }
   ],
   "source": [
    "curated_cols = get_feature_names_from_column_transformer(features_transformer)"
   ]
  },
  {
   "cell_type": "code",
   "execution_count": 205,
   "metadata": {},
   "outputs": [],
   "source": [
    "# saving the list of relevant columns\n",
    "save_pipeline(curated_cols, op.abspath(op.join(artifacts_folder, 'curated_columns.joblib')))\n",
    "\n",
    "# save the feature pipeline\n",
    "save_pipeline(features_transformer, op.abspath(op.join(artifacts_folder, 'features.joblib')))"
   ]
  },
  {
   "cell_type": "markdown",
   "metadata": {},
   "source": [
    "# 4 Modelling"
   ]
  },
  {
   "cell_type": "markdown",
   "metadata": {},
   "source": [
    "## 4.1 Modelling - Linear Regression"
   ]
  },
  {
   "cell_type": "markdown",
   "metadata": {},
   "source": [
    "### 4.1.1 Feature Selection(Specific to Regression)\n",
    "\n",
    "- Selecting Features specific to regression\n",
    "- VIF : measure of the amount of multi-collinearity in a set of multiple regressor variables. \n",
    "- On a case to case basis VIF thresholds change. Generally 5 or 10 are acceptable levels.\n",
    "- Usually on a recursive basis when removing the most collinear variable, there can be shuffle in VIF. \n",
    "- Often this section will not be part of the production code."
   ]
  },
  {
   "cell_type": "code",
   "execution_count": 206,
   "metadata": {},
   "outputs": [],
   "source": [
    "cols = list(train_X.columns)\n",
    "vif = eda.calc_vif(train_X)\n",
    "while max(vif.VIF) > 15:\n",
    "    #removing the largest variable from VIF\n",
    "    cols.remove(vif[(vif.VIF==vif.VIF.max())].variables.tolist()[0])\n",
    "    vif = eda.calc_vif(train_X[cols])"
   ]
  },
  {
   "cell_type": "code",
   "execution_count": 207,
   "metadata": {},
   "outputs": [],
   "source": [
    "reg_vars = vif.query('VIF < 15').variables\n",
    "reg_vars = list(reg_vars)"
   ]
  },
  {
   "cell_type": "markdown",
   "metadata": {},
   "source": [
    "### 4.1.2 Data transformations"
   ]
  },
  {
   "cell_type": "code",
   "execution_count": 208,
   "metadata": {},
   "outputs": [],
   "source": [
    "# Custom Transformations like these can be utilised\n",
    "def _custom_data_transform(df, cols2keep=None):\n",
    "    \"\"\"Transformation to drop some columns in the data\n",
    "    \n",
    "    Parameters\n",
    "    ----------\n",
    "        df - pd.DataFrame\n",
    "        cols2keep - columns to keep in the dataframe\n",
    "    \"\"\"\n",
    "    cols2keep = cols2keep or []\n",
    "    if len(cols2keep):\n",
    "        return (df\n",
    "                .select_columns(cols2keep))\n",
    "    else:\n",
    "        return df"
   ]
  },
  {
   "cell_type": "markdown",
   "metadata": {},
   "source": [
    "### 4.1.3 Model training pipeline\n",
    "\n",
    "- Here we focus on creating a collection of pipelines that can be used for training respective models.\n",
    "- Each model pipeline will essentially be of the form\n",
    "```\n",
    "[\n",
    "('preprocessing', preprocessing_pipeline),\n",
    "('feature_selection', feature_selection_pipeline),\n",
    "('estimator', estimator),\n",
    "]\n",
    "```"
   ]
  },
  {
   "cell_type": "markdown",
   "metadata": {},
   "source": [
    "### 4.1.4 Model Pipeline Build\n",
    "\n",
    "- This will be part of the production code (training only)."
   ]
  },
  {
   "cell_type": "code",
   "execution_count": 209,
   "metadata": {},
   "outputs": [
    {
     "name": "stderr",
     "output_type": "stream",
     "text": [
      "In a future version of pandas all arguments of concat except for the argument 'objs' will be keyword-only.\n"
     ]
    },
    {
     "data": {
      "text/plain": [
       "Pipeline(steps=[('',\n",
       "                 FunctionTransformer(func=<function _custom_data_transform at 0x7f6a521b9040>,\n",
       "                                     kw_args={'cols2keep': ['ocean_proximity_INLAND',\n",
       "                                                            'ocean_proximity_ISLAND',\n",
       "                                                            'ocean_proximity_NEAR '\n",
       "                                                            'BAY',\n",
       "                                                            'ocean_proximity_NEAR '\n",
       "                                                            'OCEAN',\n",
       "                                                            'housing_median_age',\n",
       "                                                            'total_bedrooms',\n",
       "                                                            'population',\n",
       "                                                            'median_income']})),\n",
       "                ('estimator', SKLStatsmodelOLS())])"
      ]
     },
     "execution_count": 209,
     "metadata": {},
     "output_type": "execute_result"
    }
   ],
   "source": [
    "reg_ppln_ols = Pipeline([\n",
    "    ('',FunctionTransformer(_custom_data_transform, kw_args={'cols2keep':reg_vars})),\n",
    "    ('estimator', SKLStatsmodelOLS())\n",
    "])\n",
    "reg_ppln_ols.fit(train_X, train_y.values.ravel())\n"
   ]
  },
  {
   "cell_type": "code",
   "execution_count": 210,
   "metadata": {},
   "outputs": [
    {
     "data": {
      "text/html": [
       "<table class=\"simpletable\">\n",
       "<caption>OLS Regression Results</caption>\n",
       "<tr>\n",
       "  <th>Dep. Variable:</th>            <td>y</td>        <th>  R-squared:         </th>  <td>   0.649</td>  \n",
       "</tr>\n",
       "<tr>\n",
       "  <th>Model:</th>                   <td>OLS</td>       <th>  Adj. R-squared:    </th>  <td>   0.649</td>  \n",
       "</tr>\n",
       "<tr>\n",
       "  <th>Method:</th>             <td>Least Squares</td>  <th>  F-statistic:       </th>  <td>   3820.</td>  \n",
       "</tr>\n",
       "<tr>\n",
       "  <th>Date:</th>             <td>Fri, 25 Mar 2022</td> <th>  Prob (F-statistic):</th>   <td>  0.00</td>   \n",
       "</tr>\n",
       "<tr>\n",
       "  <th>Time:</th>                 <td>13:02:11</td>     <th>  Log-Likelihood:    </th> <td>-2.0725e+05</td>\n",
       "</tr>\n",
       "<tr>\n",
       "  <th>No. Observations:</th>      <td> 16512</td>      <th>  AIC:               </th>  <td>4.145e+05</td> \n",
       "</tr>\n",
       "<tr>\n",
       "  <th>Df Residuals:</th>          <td> 16503</td>      <th>  BIC:               </th>  <td>4.146e+05</td> \n",
       "</tr>\n",
       "<tr>\n",
       "  <th>Df Model:</th>              <td>     8</td>      <th>                     </th>      <td> </td>     \n",
       "</tr>\n",
       "<tr>\n",
       "  <th>Covariance Type:</th>      <td>nonrobust</td>    <th>                     </th>      <td> </td>     \n",
       "</tr>\n",
       "</table>\n",
       "<table class=\"simpletable\">\n",
       "<tr>\n",
       "               <td></td>                 <th>coef</th>     <th>std err</th>      <th>t</th>      <th>P>|t|</th>  <th>[0.025</th>    <th>0.975]</th>  \n",
       "</tr>\n",
       "<tr>\n",
       "  <th>intercept</th>                  <td> 1.144e+04</td> <td> 2714.443</td> <td>    4.213</td> <td> 0.000</td> <td> 6116.164</td> <td> 1.68e+04</td>\n",
       "</tr>\n",
       "<tr>\n",
       "  <th>ocean_proximity_INLAND</th>     <td>-6.977e+04</td> <td> 1324.516</td> <td>  -52.676</td> <td> 0.000</td> <td>-7.24e+04</td> <td>-6.72e+04</td>\n",
       "</tr>\n",
       "<tr>\n",
       "  <th>ocean_proximity_ISLAND</th>     <td> 1.745e+05</td> <td> 3.42e+04</td> <td>    5.100</td> <td> 0.000</td> <td> 1.07e+05</td> <td> 2.42e+05</td>\n",
       "</tr>\n",
       "<tr>\n",
       "  <th>ocean_proximity_NEAR BAY</th>   <td>  155.2281</td> <td> 1851.316</td> <td>    0.084</td> <td> 0.933</td> <td>-3473.551</td> <td> 3784.007</td>\n",
       "</tr>\n",
       "<tr>\n",
       "  <th>ocean_proximity_NEAR OCEAN</th> <td> 1.164e+04</td> <td> 1689.109</td> <td>    6.893</td> <td> 0.000</td> <td> 8332.727</td> <td>  1.5e+04</td>\n",
       "</tr>\n",
       "<tr>\n",
       "  <th>housing_median_age</th>         <td> 1386.4367</td> <td>   48.890</td> <td>   28.358</td> <td> 0.000</td> <td> 1290.606</td> <td> 1482.267</td>\n",
       "</tr>\n",
       "<tr>\n",
       "  <th>total_bedrooms</th>             <td>  145.9692</td> <td>    3.228</td> <td>   45.221</td> <td> 0.000</td> <td>  139.642</td> <td>  152.296</td>\n",
       "</tr>\n",
       "<tr>\n",
       "  <th>population</th>                 <td>  -46.8183</td> <td>    1.203</td> <td>  -38.923</td> <td> 0.000</td> <td>  -49.176</td> <td>  -44.461</td>\n",
       "</tr>\n",
       "<tr>\n",
       "  <th>median_income</th>              <td>   4.3e+04</td> <td>  321.380</td> <td>  133.804</td> <td> 0.000</td> <td> 4.24e+04</td> <td> 4.36e+04</td>\n",
       "</tr>\n",
       "</table>\n",
       "<table class=\"simpletable\">\n",
       "<tr>\n",
       "  <th>Omnibus:</th>       <td>3612.350</td> <th>  Durbin-Watson:     </th> <td>   2.002</td> \n",
       "</tr>\n",
       "<tr>\n",
       "  <th>Prob(Omnibus):</th>  <td> 0.000</td>  <th>  Jarque-Bera (JB):  </th> <td>10299.115</td>\n",
       "</tr>\n",
       "<tr>\n",
       "  <th>Skew:</th>           <td> 1.152</td>  <th>  Prob(JB):          </th> <td>    0.00</td> \n",
       "</tr>\n",
       "<tr>\n",
       "  <th>Kurtosis:</th>       <td> 6.109</td>  <th>  Cond. No.          </th> <td>1.14e+05</td> \n",
       "</tr>\n",
       "</table><br/><br/>Warnings:<br/>[1] Standard Errors assume that the covariance matrix of the errors is correctly specified.<br/>[2] The condition number is large, 1.14e+05. This might indicate that there are<br/>strong multicollinearity or other numerical problems."
      ],
      "text/plain": [
       "<class 'statsmodels.iolib.summary.Summary'>\n",
       "\"\"\"\n",
       "                            OLS Regression Results                            \n",
       "==============================================================================\n",
       "Dep. Variable:                      y   R-squared:                       0.649\n",
       "Model:                            OLS   Adj. R-squared:                  0.649\n",
       "Method:                 Least Squares   F-statistic:                     3820.\n",
       "Date:                Fri, 25 Mar 2022   Prob (F-statistic):               0.00\n",
       "Time:                        13:02:11   Log-Likelihood:            -2.0725e+05\n",
       "No. Observations:               16512   AIC:                         4.145e+05\n",
       "Df Residuals:                   16503   BIC:                         4.146e+05\n",
       "Df Model:                           8                                         \n",
       "Covariance Type:            nonrobust                                         \n",
       "==============================================================================================\n",
       "                                 coef    std err          t      P>|t|      [0.025      0.975]\n",
       "----------------------------------------------------------------------------------------------\n",
       "intercept                   1.144e+04   2714.443      4.213      0.000    6116.164    1.68e+04\n",
       "ocean_proximity_INLAND     -6.977e+04   1324.516    -52.676      0.000   -7.24e+04   -6.72e+04\n",
       "ocean_proximity_ISLAND      1.745e+05   3.42e+04      5.100      0.000    1.07e+05    2.42e+05\n",
       "ocean_proximity_NEAR BAY     155.2281   1851.316      0.084      0.933   -3473.551    3784.007\n",
       "ocean_proximity_NEAR OCEAN  1.164e+04   1689.109      6.893      0.000    8332.727     1.5e+04\n",
       "housing_median_age          1386.4367     48.890     28.358      0.000    1290.606    1482.267\n",
       "total_bedrooms               145.9692      3.228     45.221      0.000     139.642     152.296\n",
       "population                   -46.8183      1.203    -38.923      0.000     -49.176     -44.461\n",
       "median_income                 4.3e+04    321.380    133.804      0.000    4.24e+04    4.36e+04\n",
       "==============================================================================\n",
       "Omnibus:                     3612.350   Durbin-Watson:                   2.002\n",
       "Prob(Omnibus):                  0.000   Jarque-Bera (JB):            10299.115\n",
       "Skew:                           1.152   Prob(JB):                         0.00\n",
       "Kurtosis:                       6.109   Cond. No.                     1.14e+05\n",
       "==============================================================================\n",
       "\n",
       "Warnings:\n",
       "[1] Standard Errors assume that the covariance matrix of the errors is correctly specified.\n",
       "[2] The condition number is large, 1.14e+05. This might indicate that there are\n",
       "strong multicollinearity or other numerical problems.\n",
       "\"\"\""
      ]
     },
     "execution_count": 210,
     "metadata": {},
     "output_type": "execute_result"
    }
   ],
   "source": [
    "reg_ppln_ols['estimator'].summary()"
   ]
  },
  {
   "cell_type": "markdown",
   "metadata": {},
   "source": [
    "### 4.1.5 Model Evaluation(Linear Model)\n",
    "\n",
    "This will be part of the production code."
   ]
  },
  {
   "cell_type": "code",
   "execution_count": 211,
   "metadata": {},
   "outputs": [
    {
     "name": "stderr",
     "output_type": "stream",
     "text": [
      "Function get_feature_names is deprecated; get_feature_names is deprecated in 1.0 and will be removed in 1.2. Please use get_feature_names_out instead.\n"
     ]
    }
   ],
   "source": [
    "reg_ppln = Pipeline([\n",
    "    ('', FunctionTransformer(_custom_data_transform, kw_args={'cols2keep':reg_vars})),\n",
    "    ('Linear Regression', SKLStatsmodelOLS())\n",
    "])\n",
    "\n",
    "test_X = get_dataframe(\n",
    "    features_transformer.fit_transform(test_X), \n",
    "    get_feature_names_from_column_transformer(features_transformer)\n",
    ")\n",
    "test_X = test_X[curated_cols]"
   ]
  },
  {
   "cell_type": "code",
   "execution_count": 212,
   "metadata": {},
   "outputs": [
    {
     "name": "stderr",
     "output_type": "stream",
     "text": [
      "In a future version of pandas all arguments of concat except for the argument 'objs' will be keyword-only.\n",
      "Attribute `_pairwise` was deprecated in version 0.24 and will be removed in 1.1 (renaming of 0.26).\n",
      "In a future version of pandas all arguments of DataFrame.drop except for the argument 'labels' will be keyword-only.\n",
      "In a future version of pandas all arguments of DataFrame.drop except for the argument 'labels' will be keyword-only.\n",
      "this method is deprecated in favour of `Styler.to_html()`\n"
     ]
    }
   ],
   "source": [
    "reg_linear_report = RegressionReport(model=reg_ppln, x_train=train_X, y_train=train_y, x_test= test_X, y_test= test_y, refit=True)\n",
    "reg_linear_report.get_report(include_shap=False, file_path='regression_linear_model_report')"
   ]
  },
  {
   "cell_type": "markdown",
   "metadata": {},
   "source": [
    "**Dev Notes**\n",
    "Use SHAP for variable interpretability.\n",
    "<details>\n",
    "\n",
    "    1. Use SHAP=True to generate variable interpretability plots in the report\n",
    "    2. SHAP is recommended for non parameteric models such as RF, xgboost.\n",
    "    3. However, SHAP reports are time consuming depending on no.of records and model complexity.\n",
    "    \n",
    "A sample of regerssion report with SHAP can be found [here](https://drive.google.com/file/d/18RlQTsT1ze09Cgz-qpb4ha_cvyWbN5F5/view?usp=sharing).\n",
    "</details>"
   ]
  },
  {
   "cell_type": "markdown",
   "metadata": {},
   "source": [
    "### 4.1.6 Residual Analysis\n",
    "- After scoring the model, it is recommended to do a residual analysis to know the distribution of errors\n",
    "- we took a threshold of 30% above which it is marked as over prediction or underprediction\n",
    "- This will not be part of the production code."
   ]
  },
  {
   "cell_type": "code",
   "execution_count": 213,
   "metadata": {},
   "outputs": [],
   "source": [
    "threshold=0.3\n",
    "residual_analysis = test_X.copy()\n",
    "residual_analysis['prediction'] = reg_ppln_ols.predict(test_X)\n",
    "residual_analysis['actuals'] = test_y.reset_index(drop = True).iloc[:,0].values\n",
    "residual_analysis['forecast_flag'] = 'good'\n",
    "residual_analysis.loc[((residual_analysis['prediction'] > (1+threshold) * residual_analysis['actuals'])\\\n",
    "                       & (residual_analysis['actuals']>100)),'forecast_flag'] = 'over predict'\n",
    "residual_analysis.loc[((residual_analysis['prediction'] < (1-threshold) * residual_analysis['actuals'])\\\n",
    "                       & (residual_analysis['actuals']>100)),'forecast_flag'] = 'under predict'"
   ]
  },
  {
   "cell_type": "code",
   "execution_count": 214,
   "metadata": {},
   "outputs": [
    {
     "data": {
      "text/html": [
       "<div>\n",
       "<style scoped>\n",
       "    .dataframe tbody tr th:only-of-type {\n",
       "        vertical-align: middle;\n",
       "    }\n",
       "\n",
       "    .dataframe tbody tr th {\n",
       "        vertical-align: top;\n",
       "    }\n",
       "\n",
       "    .dataframe thead th {\n",
       "        text-align: right;\n",
       "    }\n",
       "</style>\n",
       "<table border=\"1\" class=\"dataframe\">\n",
       "  <thead>\n",
       "    <tr style=\"text-align: right;\">\n",
       "      <th></th>\n",
       "      <th>ocean_proximity_&lt;1H OCEAN</th>\n",
       "      <th>ocean_proximity_INLAND</th>\n",
       "      <th>ocean_proximity_ISLAND</th>\n",
       "      <th>ocean_proximity_NEAR BAY</th>\n",
       "      <th>ocean_proximity_NEAR OCEAN</th>\n",
       "      <th>longitude</th>\n",
       "      <th>latitude</th>\n",
       "      <th>housing_median_age</th>\n",
       "      <th>total_rooms</th>\n",
       "      <th>total_bedrooms</th>\n",
       "      <th>population</th>\n",
       "      <th>households</th>\n",
       "      <th>median_income</th>\n",
       "      <th>prediction</th>\n",
       "      <th>actuals</th>\n",
       "      <th>forecast_flag</th>\n",
       "    </tr>\n",
       "  </thead>\n",
       "  <tbody>\n",
       "    <tr>\n",
       "      <th>0</th>\n",
       "      <td>0.0</td>\n",
       "      <td>0.0</td>\n",
       "      <td>0.0</td>\n",
       "      <td>0.0</td>\n",
       "      <td>1.0</td>\n",
       "      <td>-124.15</td>\n",
       "      <td>40.78</td>\n",
       "      <td>36.0</td>\n",
       "      <td>2112.0</td>\n",
       "      <td>374.0</td>\n",
       "      <td>829.0</td>\n",
       "      <td>368.0</td>\n",
       "      <td>3.3984</td>\n",
       "      <td>234909.437166</td>\n",
       "      <td>90000.0</td>\n",
       "      <td>over predict</td>\n",
       "    </tr>\n",
       "    <tr>\n",
       "      <th>1</th>\n",
       "      <td>1.0</td>\n",
       "      <td>0.0</td>\n",
       "      <td>0.0</td>\n",
       "      <td>0.0</td>\n",
       "      <td>0.0</td>\n",
       "      <td>-122.80</td>\n",
       "      <td>38.39</td>\n",
       "      <td>26.0</td>\n",
       "      <td>2273.0</td>\n",
       "      <td>474.0</td>\n",
       "      <td>1124.0</td>\n",
       "      <td>420.0</td>\n",
       "      <td>2.9453</td>\n",
       "      <td>190702.914546</td>\n",
       "      <td>166700.0</td>\n",
       "      <td>good</td>\n",
       "    </tr>\n",
       "    <tr>\n",
       "      <th>2</th>\n",
       "      <td>1.0</td>\n",
       "      <td>0.0</td>\n",
       "      <td>0.0</td>\n",
       "      <td>0.0</td>\n",
       "      <td>0.0</td>\n",
       "      <td>-117.80</td>\n",
       "      <td>33.77</td>\n",
       "      <td>29.0</td>\n",
       "      <td>5436.0</td>\n",
       "      <td>707.0</td>\n",
       "      <td>2046.0</td>\n",
       "      <td>685.0</td>\n",
       "      <td>8.7496</td>\n",
       "      <td>435301.849450</td>\n",
       "      <td>349500.0</td>\n",
       "      <td>good</td>\n",
       "    </tr>\n",
       "    <tr>\n",
       "      <th>3</th>\n",
       "      <td>1.0</td>\n",
       "      <td>0.0</td>\n",
       "      <td>0.0</td>\n",
       "      <td>0.0</td>\n",
       "      <td>0.0</td>\n",
       "      <td>-118.87</td>\n",
       "      <td>34.23</td>\n",
       "      <td>14.0</td>\n",
       "      <td>4242.0</td>\n",
       "      <td>746.0</td>\n",
       "      <td>1858.0</td>\n",
       "      <td>689.0</td>\n",
       "      <td>6.0145</td>\n",
       "      <td>311385.749102</td>\n",
       "      <td>287100.0</td>\n",
       "      <td>good</td>\n",
       "    </tr>\n",
       "    <tr>\n",
       "      <th>4</th>\n",
       "      <td>0.0</td>\n",
       "      <td>1.0</td>\n",
       "      <td>0.0</td>\n",
       "      <td>0.0</td>\n",
       "      <td>0.0</td>\n",
       "      <td>-119.37</td>\n",
       "      <td>36.19</td>\n",
       "      <td>24.0</td>\n",
       "      <td>1306.0</td>\n",
       "      <td>266.0</td>\n",
       "      <td>889.0</td>\n",
       "      <td>276.0</td>\n",
       "      <td>2.4922</td>\n",
       "      <td>79316.022975</td>\n",
       "      <td>66100.0</td>\n",
       "      <td>good</td>\n",
       "    </tr>\n",
       "    <tr>\n",
       "      <th>...</th>\n",
       "      <td>...</td>\n",
       "      <td>...</td>\n",
       "      <td>...</td>\n",
       "      <td>...</td>\n",
       "      <td>...</td>\n",
       "      <td>...</td>\n",
       "      <td>...</td>\n",
       "      <td>...</td>\n",
       "      <td>...</td>\n",
       "      <td>...</td>\n",
       "      <td>...</td>\n",
       "      <td>...</td>\n",
       "      <td>...</td>\n",
       "      <td>...</td>\n",
       "      <td>...</td>\n",
       "      <td>...</td>\n",
       "    </tr>\n",
       "    <tr>\n",
       "      <th>4123</th>\n",
       "      <td>0.0</td>\n",
       "      <td>1.0</td>\n",
       "      <td>0.0</td>\n",
       "      <td>0.0</td>\n",
       "      <td>0.0</td>\n",
       "      <td>-120.72</td>\n",
       "      <td>37.54</td>\n",
       "      <td>17.0</td>\n",
       "      <td>729.0</td>\n",
       "      <td>134.0</td>\n",
       "      <td>431.0</td>\n",
       "      <td>121.0</td>\n",
       "      <td>4.2188</td>\n",
       "      <td>146032.705620</td>\n",
       "      <td>131300.0</td>\n",
       "      <td>good</td>\n",
       "    </tr>\n",
       "    <tr>\n",
       "      <th>4124</th>\n",
       "      <td>1.0</td>\n",
       "      <td>0.0</td>\n",
       "      <td>0.0</td>\n",
       "      <td>0.0</td>\n",
       "      <td>0.0</td>\n",
       "      <td>-118.32</td>\n",
       "      <td>33.98</td>\n",
       "      <td>49.0</td>\n",
       "      <td>1993.0</td>\n",
       "      <td>446.0</td>\n",
       "      <td>1052.0</td>\n",
       "      <td>394.0</td>\n",
       "      <td>2.2138</td>\n",
       "      <td>190418.931628</td>\n",
       "      <td>119800.0</td>\n",
       "      <td>over predict</td>\n",
       "    </tr>\n",
       "    <tr>\n",
       "      <th>4125</th>\n",
       "      <td>1.0</td>\n",
       "      <td>0.0</td>\n",
       "      <td>0.0</td>\n",
       "      <td>0.0</td>\n",
       "      <td>0.0</td>\n",
       "      <td>-118.24</td>\n",
       "      <td>34.13</td>\n",
       "      <td>37.0</td>\n",
       "      <td>1644.0</td>\n",
       "      <td>395.0</td>\n",
       "      <td>959.0</td>\n",
       "      <td>383.0</td>\n",
       "      <td>3.3636</td>\n",
       "      <td>220134.820373</td>\n",
       "      <td>257700.0</td>\n",
       "      <td>good</td>\n",
       "    </tr>\n",
       "    <tr>\n",
       "      <th>4126</th>\n",
       "      <td>0.0</td>\n",
       "      <td>1.0</td>\n",
       "      <td>0.0</td>\n",
       "      <td>0.0</td>\n",
       "      <td>0.0</td>\n",
       "      <td>-119.03</td>\n",
       "      <td>36.08</td>\n",
       "      <td>19.0</td>\n",
       "      <td>2471.0</td>\n",
       "      <td>431.0</td>\n",
       "      <td>1040.0</td>\n",
       "      <td>426.0</td>\n",
       "      <td>3.2500</td>\n",
       "      <td>121985.951586</td>\n",
       "      <td>80600.0</td>\n",
       "      <td>over predict</td>\n",
       "    </tr>\n",
       "    <tr>\n",
       "      <th>4127</th>\n",
       "      <td>1.0</td>\n",
       "      <td>0.0</td>\n",
       "      <td>0.0</td>\n",
       "      <td>0.0</td>\n",
       "      <td>0.0</td>\n",
       "      <td>-117.92</td>\n",
       "      <td>33.79</td>\n",
       "      <td>26.0</td>\n",
       "      <td>2737.0</td>\n",
       "      <td>614.0</td>\n",
       "      <td>1877.0</td>\n",
       "      <td>606.0</td>\n",
       "      <td>2.8622</td>\n",
       "      <td>172310.964868</td>\n",
       "      <td>184300.0</td>\n",
       "      <td>good</td>\n",
       "    </tr>\n",
       "  </tbody>\n",
       "</table>\n",
       "<p>4128 rows × 16 columns</p>\n",
       "</div>"
      ],
      "text/plain": [
       "      ocean_proximity_<1H OCEAN  ocean_proximity_INLAND  \\\n",
       "0                           0.0                     0.0   \n",
       "1                           1.0                     0.0   \n",
       "2                           1.0                     0.0   \n",
       "3                           1.0                     0.0   \n",
       "4                           0.0                     1.0   \n",
       "...                         ...                     ...   \n",
       "4123                        0.0                     1.0   \n",
       "4124                        1.0                     0.0   \n",
       "4125                        1.0                     0.0   \n",
       "4126                        0.0                     1.0   \n",
       "4127                        1.0                     0.0   \n",
       "\n",
       "      ocean_proximity_ISLAND  ocean_proximity_NEAR BAY  \\\n",
       "0                        0.0                       0.0   \n",
       "1                        0.0                       0.0   \n",
       "2                        0.0                       0.0   \n",
       "3                        0.0                       0.0   \n",
       "4                        0.0                       0.0   \n",
       "...                      ...                       ...   \n",
       "4123                     0.0                       0.0   \n",
       "4124                     0.0                       0.0   \n",
       "4125                     0.0                       0.0   \n",
       "4126                     0.0                       0.0   \n",
       "4127                     0.0                       0.0   \n",
       "\n",
       "      ocean_proximity_NEAR OCEAN  longitude  latitude  housing_median_age  \\\n",
       "0                            1.0    -124.15     40.78                36.0   \n",
       "1                            0.0    -122.80     38.39                26.0   \n",
       "2                            0.0    -117.80     33.77                29.0   \n",
       "3                            0.0    -118.87     34.23                14.0   \n",
       "4                            0.0    -119.37     36.19                24.0   \n",
       "...                          ...        ...       ...                 ...   \n",
       "4123                         0.0    -120.72     37.54                17.0   \n",
       "4124                         0.0    -118.32     33.98                49.0   \n",
       "4125                         0.0    -118.24     34.13                37.0   \n",
       "4126                         0.0    -119.03     36.08                19.0   \n",
       "4127                         0.0    -117.92     33.79                26.0   \n",
       "\n",
       "      total_rooms  total_bedrooms  population  households  median_income  \\\n",
       "0          2112.0           374.0       829.0       368.0         3.3984   \n",
       "1          2273.0           474.0      1124.0       420.0         2.9453   \n",
       "2          5436.0           707.0      2046.0       685.0         8.7496   \n",
       "3          4242.0           746.0      1858.0       689.0         6.0145   \n",
       "4          1306.0           266.0       889.0       276.0         2.4922   \n",
       "...           ...             ...         ...         ...            ...   \n",
       "4123        729.0           134.0       431.0       121.0         4.2188   \n",
       "4124       1993.0           446.0      1052.0       394.0         2.2138   \n",
       "4125       1644.0           395.0       959.0       383.0         3.3636   \n",
       "4126       2471.0           431.0      1040.0       426.0         3.2500   \n",
       "4127       2737.0           614.0      1877.0       606.0         2.8622   \n",
       "\n",
       "         prediction   actuals forecast_flag  \n",
       "0     234909.437166   90000.0  over predict  \n",
       "1     190702.914546  166700.0          good  \n",
       "2     435301.849450  349500.0          good  \n",
       "3     311385.749102  287100.0          good  \n",
       "4      79316.022975   66100.0          good  \n",
       "...             ...       ...           ...  \n",
       "4123  146032.705620  131300.0          good  \n",
       "4124  190418.931628  119800.0  over predict  \n",
       "4125  220134.820373  257700.0          good  \n",
       "4126  121985.951586   80600.0  over predict  \n",
       "4127  172310.964868  184300.0          good  \n",
       "\n",
       "[4128 rows x 16 columns]"
      ]
     },
     "execution_count": 214,
     "metadata": {},
     "output_type": "execute_result"
    }
   ],
   "source": [
    "residual_analysis"
   ]
  },
  {
   "cell_type": "code",
   "execution_count": 215,
   "metadata": {},
   "outputs": [
    {
     "data": {},
     "metadata": {},
     "output_type": "display_data"
    },
    {
     "data": {
      "application/vnd.holoviews_exec.v0+json": "",
      "text/html": [
       "<div id='97080'>\n",
       "\n",
       "\n",
       "\n",
       "\n",
       "\n",
       "  <div class=\"bk-root\" id=\"2995d1ac-081e-495c-80d8-3a4dee655a3b\" data-root-id=\"97080\"></div>\n",
       "</div>\n",
       "<script type=\"application/javascript\">(function(root) {\n",
       "  function embed_document(root) {\n",
       "  var docs_json = {\"143ca78d-31fb-47e9-a91a-e0d16c94f2fe\":{\"roots\":{\"references\":[{\"attributes\":{\"data_source\":{\"id\":\"97139\"},\"glyph\":{\"id\":\"97142\"},\"hover_glyph\":null,\"muted_glyph\":{\"id\":\"97144\"},\"nonselection_glyph\":{\"id\":\"97143\"},\"selection_glyph\":null,\"view\":{\"id\":\"97146\"}},\"id\":\"97145\",\"type\":\"GlyphRenderer\"},{\"attributes\":{\"fill_alpha\":0.5,\"fill_color\":\"#1f77b3\",\"line_alpha\":0.7,\"x\":{\"field\":\"x\"},\"y\":{\"field\":\"y\"}},\"id\":\"97125\",\"type\":\"Patch\"},{\"attributes\":{\"end\":0.3243721429956835,\"reset_end\":0.3243721429956835,\"reset_start\":0.0,\"tags\":[[[\"median_income_density\",\"Density\",null]]]},\"id\":\"97083\",\"type\":\"Range1d\"},{\"attributes\":{\"overlay\":{\"id\":\"97109\"}},\"id\":\"97107\",\"type\":\"BoxZoomTool\"},{\"attributes\":{\"axis\":{\"id\":\"97100\"},\"dimension\":1,\"grid_line_color\":null,\"ticker\":null},\"id\":\"97103\",\"type\":\"Grid\"},{\"attributes\":{},\"id\":\"97108\",\"type\":\"ResetTool\"},{\"attributes\":{\"fill_alpha\":0.5,\"fill_color\":\"#ff7e0e\",\"line_alpha\":0.7,\"x\":{\"field\":\"x\"},\"y\":{\"field\":\"y\"}},\"id\":\"97143\",\"type\":\"Patch\"},{\"attributes\":{\"active_drag\":\"auto\",\"active_inspect\":\"auto\",\"active_multi\":null,\"active_scroll\":\"auto\",\"active_tap\":\"auto\",\"tools\":[{\"id\":\"97084\"},{\"id\":\"97104\"},{\"id\":\"97105\"},{\"id\":\"97106\"},{\"id\":\"97107\"},{\"id\":\"97108\"}]},\"id\":\"97110\",\"type\":\"Toolbar\"},{\"attributes\":{\"axis_label\":\"median_income\",\"bounds\":\"auto\",\"formatter\":{\"id\":\"97118\"},\"major_label_orientation\":\"horizontal\",\"ticker\":{\"id\":\"97097\"}},\"id\":\"97096\",\"type\":\"LinearAxis\"},{\"attributes\":{\"margin\":[5,5,5,5],\"name\":\"HSpacer256447\",\"sizing_mode\":\"stretch_width\"},\"id\":\"97081\",\"type\":\"Spacer\"},{\"attributes\":{\"data\":{\"x\":{\"__ndarray__\":\"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\",\"dtype\":\"float64\",\"order\":\"little\",\"shape\":[200]},\"y\":{\"__ndarray__\":\"AAAAAAAAAAAAAAAAAAAAAAAAAAAAAAAAAAAAAAAAAAAAAAAAAAAAAAAAAAAAAAAAAAAAAAAAAAAAAAAAAAAAAAAAAAAAAAAAAAAAAAAAAAAAAAAAAAAAAAAAAAAAAAAAAAAAAAAAAAAAAAAAAAAAAAAAAAAAAAAAAAAAAAAAAAAAAAAAAAAAAAAAAAAAAAAAAAAAAAAAAAAAAAAAAAAAAAAAAAAAAAAAAAAAAAAAAAAAAAAAAAAAAAAAAAAAAAAAAAAAAAAAAAAAAAAAAAAAAAAAAAAAAAAAAAAAAAAAAAAAAAAAAAAAAAAAAAAAAAAAAAAAAAAAAAAAAAAAAAAAAAAAAAAAAAAAAAAAAAAAAAAAAAAAAAAAAAAAAAAAAAAAAAAAAAAAAAAAAAAAAAAAAAAAAAAAAAAAAAAAAAAAAAAAAAAAAAAAAAAAAAAAAAAAAAAAAAAAAAAAAAAAAAAAAAAAAAAAAAAAAAAAAAAAAAAAAAAAAAAAAAAAAAAAAAAAAAAAAAAAAAAAAAAAAAAAAAAAAAAAAAAAAAAAAAAAAAAAAAAAAAAAAAAAAAAAAAAAAAAAAAAAAAAAAAAAAAAAAAAAAAAAAAAAAAAAAAAAAAAAAAAAAAAAAAAAAAAAAAAAAAAAAAAAAAAAAAAAAAAAAAAAAAAAAAAAAAAAAAAAAAAAAAAAAAAAAAAAAAAAAAAAAAAAAAAAAAAAAAAAAAAAAAAAAAAAAAAAAAAAAAAAAAAAAAAAAAAAAAAAAAAAAAAAAAAAAAAAAAAAAAAAAAAAAAAAAAAAAAAAAAAAAAAAAAAAAAAAAAAAAAAAAAAAAAAAAAAAAAAAAAAAAAAAAAAAAAAAAAAAAAAAAAAAAAAAAAAAAAAAAAAAAAAAAAAAAAAAAAAAAAAAAAAAAAAAAAAAAAAAAAAAAAAAAAAAAAAAAAAAAAAAAAAAAAAAAAAAAAAAAAAAAAAAAAAAAAAAAAAAAAAAAAAAAAAAAAAAAAAAAAAAAAAAAAAAAAAAAAAAAAAAAAAAAAAAAAAAAAAAAAAAAAAAAAAAAAAAAAAAAAAAAABJhx7I4h38Pv8FNnZytQs/HH2dnSr5GT9/oDZWOy8nPzzNvAKOvDM/RUpeBYINQD9SNKkRdgFJP++0mwz4slI/zunHTPXtWj/IqM5I67piP1RoGiviPWk/jvCM1YaFcD9oUJV8gg11P7cRiLwNJ3o/hKIP39u0fz+pEOMOnMeCP7uaxXIIx4U/RR+T5BLNiD/tqOGlreCLP9K0RrsrI48/EU8995xokT/GIcbrFp2TP5sOWKIvV5Y/J6zJf6K0mT9r6nfVWL+dPyIJDt6cNKE/bcjJ1qTHoz8oXpMp44GmPw2mrFk3Tqk/X6MbvEIgrD8I8bK29PiuP/aKKLV/87A/R14gFWyBsj/BVT8DrjO0PyU8ne2oFLY/9hx+LTEouD9EBAcNymm6PwBm4XoQzbw/uINbow1Avz8hujn5WNfAP8KBi79LA8I/oRuk/Cgdwz/wcV5n5yHEP1sNeI23EsU/ufPnTcr0xT9pUbVQPNDGP0r1JLI6rsc/QVBTaLWWyD9R3CTtL47JP+4OPCBUlMo/5Ysy9MKjyz9myBh9RbPMP8MlR5MYuM0/pw1kMriozj/QoKGqY3/PPyKIWaLMHdA/5AZt8gBx0D/7rc9KWL3QP3NUffYRB9E/jRaPwfpQ0T8jtJv5LpvRP8wuK2HA4tE/xh+QJmsi0j/k5ic9HVTSPxYZ2fm9ctI/K9L9xYZ70j9vbBsMaG7SP4I8lZdXTdI/tIkvq9ca0j8lxlJsWNjRP+W7jmIkhdE/2S7cME0e0T+E3BGroJ/QP+pkaSBABdA/ZzU2M2qazj+5sdq00/DMPyMb2ghuFcs/3pJJEzcUyT+NPZtEA/vGP8dPkWUY18Q/NI1tG5azwj/4JZxd85jAP1z+Jq3MGr0/Zd3y6ZQruT+M7mEOIG21P3FlGia/6LE/X8mE8x1RrT//aSaty22nP01jd4MdOqI/M1RY/9mGmz8wOgoGCR6UP6oLe+XuYYw/bqyBWidHgz8eZuSGjih5PzFisumqem8/6DkSDmDZYj8drqlFbJJVP/9WpTIOkEc/NTNcmG2JOD+kVSMbN1YoPw==\",\"dtype\":\"float64\",\"order\":\"little\",\"shape\":[200]}},\"selected\":{\"id\":\"97159\"},\"selection_policy\":{\"id\":\"97177\"}},\"id\":\"97158\",\"type\":\"ColumnDataSource\"},{\"attributes\":{\"source\":{\"id\":\"97158\"}},\"id\":\"97165\",\"type\":\"CDSView\"},{\"attributes\":{\"fill_alpha\":0.2,\"fill_color\":\"#ff7e0e\",\"line_alpha\":0.2,\"x\":{\"field\":\"x\"},\"y\":{\"field\":\"y\"}},\"id\":\"97144\",\"type\":\"Patch\"},{\"attributes\":{},\"id\":\"97136\",\"type\":\"UnionRenderers\"},{\"attributes\":{},\"id\":\"97159\",\"type\":\"Selection\"},{\"attributes\":{},\"id\":\"97177\",\"type\":\"UnionRenderers\"},{\"attributes\":{\"children\":[{\"id\":\"97081\"},{\"id\":\"97087\"},{\"id\":\"97287\"}],\"margin\":[0,0,0,0],\"name\":\"Row256443\",\"tags\":[\"embedded\"]},\"id\":\"97080\",\"type\":\"Row\"},{\"attributes\":{\"fill_alpha\":0.5,\"fill_color\":\"#ff7e0e\",\"line_alpha\":0.7,\"x\":{\"field\":\"x\"},\"y\":{\"field\":\"y\"}},\"id\":\"97142\",\"type\":\"Patch\"},{\"attributes\":{},\"id\":\"97104\",\"type\":\"SaveTool\"},{\"attributes\":{\"axis\":{\"id\":\"97096\"},\"grid_line_color\":null,\"ticker\":null},\"id\":\"97099\",\"type\":\"Grid\"},{\"attributes\":{\"data\":{\"x\":{\"__ndarray__\":\"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\",\"dtype\":\"float64\",\"order\":\"little\",\"shape\":[200]},\"y\":{\"__ndarray__\":\"AAAAAAAAAAAAAAAAAAAAAAAAAAAAAAAAAAAAAAAAAAAAAAAAAAAAAAAAAAAAAAAAAAAAAAAAAAAAAAAAAAAAAAAAAAAAAAAAAAAAAAAAAAAAAAAAAAAAAAAAAAAAAAAAAAAAAAAAAAAAAAAAAAAAAAAAAAAAAAAAAAAAAAAAAAAAAAAAAAAAAAAAAAAAAAAAAAAAAAAAAAAAAAAAAAAAAAAAAAAAAAAAAAAAAAAAAAAAAAAAAAAAAAAAAAAAAAAAAAAAAAAAAAAAAAAAAAAAAAAAAAAAAAAAAAAAAAAAAAAAAAAAAAAAAAAAAAAAAAAAAAAAAAAAAAAAAAAAAAAAAAAAAAAAAAAAAAAAAAAAAAAAAAAAAAAAAAAAAAAAAAAAAAAAAAAAAAAAAAAAAAAAAAAAAAAAAAAAAAAAAAAAAAAAAAAAAAAAAAAAAAAAAAAAAAAAAAAAAAAAAAAAAAAAAAAAAAAAAAAAAAAAAAAAAAAAAAAAAAAAAAAAAAAAAAAAAAAAAAAAAAAAAAAAAAAAAAAAAAAAAAAAAAAAAAAAAAAAAAAAAAAAAAAAAAAAAAAAAAAAAAAAAAAAAAAAAAAAAAAAAAAAAAAAAAAAAAAAAAAAAAAAAAAAAAAAAAAAAAAAAAAAAAAAAAAAAAAAAAAAAAAAAAAAAAAAAAAAAAAAAAAAAAAAAAAAAAAAAAAAAAAAAAAAAAAAAAAAAAAAAAAAAAAAAAAAAAAAAAAAAAAAAAAAAAAAAAAAAAAAAAAAAAAAAAAAAAAAAAAAAAAAAAAAAAAAAAAAAAAAAAAAAAAAAAAAAAAAAAAAAAAAAAAAAAAAAAAAAAAAAAAAAAAAAAAAAAAAAAAAAAAAAAAAAAAAAAAAAAAAAAAAAAAAAAAAAAAAAAAAAAAAAAAAAAAAAAAAAAAAAAAAAAAAAAAAAAAAAAAAAAAAAAAAAAAAAAAAAAAAAAAAAAAAAAAAAAAAAAAAAAAAAAAAAAAAAAAAAAAAAAAAAAAAAAAAAAAAAAAAAAAAAAAAAAAAAAAAAAAAAAAAAAAAAAAAAAAAAAAAAAAAAABvwVu9lKnRPuobjm+OAuo+NgxZ7hW+AD/Gjls3IPESPyrSTFj6+yI/yGxp0ZoNMT+K/gZRa+Q7P5sAiSVmJkU/e7TODa5ATj+dgqLfgqFUP6miO54s5Fo//igAZi2vYD9J8kegAKBjP4QMi5345GU/oF6D6WldZz/U87fozUFoP3ba03lQCmk/ipAbLJEwaj9XRoHGUP5rP/YUxcarlm4/rSqxCu8WcT93qoCV65FzPyzqU2AJ4XY/v5iphCbhej/e8V7E6Q1/P6IroBSsW4E/2cLRcPGzgj/in4490JKDP/0K9H+7KYQ/QSta59SmhD/K90wR+A2FP9KspqFwPoU/ULcBTccdhT/jDUBrr8CEP8OCyDdKcYQ/0EcMeL+ThD+CSzPs8ISFPxty6rjuioc/kR6dFuLVij8vTyOkqH+PP0Nryag+v5I/qAdCOlpIlj86/3YzGRqaP3I9nkgz3p0/54Nip82ioD+80miM8RWiP6c6pdiCVqM/KToTGn+OpD/HcexvzvGlP6IHnbWRqac/t8c/luLJqT/uJ1NIPlasP1baq+0YTK8/nM/oPRJTsT9YrVQhMiqzPwACILZgGrU/AiUoPEANtz9kDJgDUPG4P9ARAhOnwbo/cZijZy+FvD+Ii8Gk/ki+P4RQbJ5YDsA/7a3948gIwT+ergg0PRzCP/Ceo0fYTsM/NF5lQiujxD+5rV2aGBjGPzCHgpvCp8c/s95uv7pEyT/tI2Ikd9jKP+pqlFWyRsw/QD/i1151zT/HIWskc1TOP6bfTEor4M4/LFECDUoczz/84PlkkAzPPyEixC6tsM4/DpVkwKgFzj/qlObH6gjNP176KYdiuMs/wMY8PWoQyj/hjDnALQzIP4onVk9tq8U/omMqUnX6wj+xWgb32BXAP4hbPU0BTbo/OPrMqMmwtD/y0a1IS0SvPxiPlw1UpqY/mHrNVJZknz/MFzXKOL+UP4Bea0DmBYo/8nfdrebAfj87Y/j4SfZwP1Yph++LR2E/FGMrDasUUD85Oi0W+RE7P6SGm7qtbiQ/zrp6kQ94Cz+wb43z81rwPg==\",\"dtype\":\"float64\",\"order\":\"little\",\"shape\":[200]}},\"selected\":{\"id\":\"97140\"},\"selection_policy\":{\"id\":\"97156\"}},\"id\":\"97139\",\"type\":\"ColumnDataSource\"},{\"attributes\":{\"fill_alpha\":0.2,\"fill_color\":\"#1f77b3\",\"line_alpha\":0.2,\"x\":{\"field\":\"x\"},\"y\":{\"field\":\"y\"}},\"id\":\"97126\",\"type\":\"Patch\"},{\"attributes\":{\"bottom_units\":\"screen\",\"fill_alpha\":0.5,\"fill_color\":\"lightgrey\",\"left_units\":\"screen\",\"level\":\"overlay\",\"line_alpha\":1.0,\"line_color\":\"black\",\"line_dash\":[4,4],\"line_width\":2,\"right_units\":\"screen\",\"top_units\":\"screen\"},\"id\":\"97109\",\"type\":\"BoxAnnotation\"},{\"attributes\":{},\"id\":\"97092\",\"type\":\"LinearScale\"},{\"attributes\":{\"axis_label\":\"density\",\"bounds\":\"auto\",\"formatter\":{\"id\":\"97120\"},\"major_label_orientation\":\"horizontal\",\"ticker\":{\"id\":\"97101\"}},\"id\":\"97100\",\"type\":\"LinearAxis\"},{\"attributes\":{\"callback\":null,\"renderers\":[{\"id\":\"97127\"},{\"id\":\"97145\"},{\"id\":\"97164\"}],\"tags\":[\"hv_created\"],\"tooltips\":[[\"forecast_flag\",\"@{forecast_flag}\"],[\"median_income\",\"@{median_income}\"],[\"Density\",\"@{median_income_density}\"]]},\"id\":\"97084\",\"type\":\"HoverTool\"},{\"attributes\":{\"label\":{\"value\":\"good\"},\"renderers\":[{\"id\":\"97145\"}]},\"id\":\"97157\",\"type\":\"LegendItem\"},{\"attributes\":{\"align\":null,\"below\":[{\"id\":\"97096\"}],\"center\":[{\"id\":\"97099\"},{\"id\":\"97103\"},{\"id\":\"97137\"}],\"left\":[{\"id\":\"97100\"}],\"margin\":null,\"min_border_bottom\":10,\"min_border_left\":10,\"min_border_right\":10,\"min_border_top\":10,\"plot_height\":400,\"plot_width\":800,\"renderers\":[{\"id\":\"97127\"},{\"id\":\"97145\"},{\"id\":\"97164\"}],\"sizing_mode\":\"fixed\",\"title\":{\"id\":\"97088\"},\"toolbar\":{\"id\":\"97110\"},\"x_range\":{\"id\":\"97082\"},\"x_scale\":{\"id\":\"97092\"},\"y_range\":{\"id\":\"97083\"},\"y_scale\":{\"id\":\"97094\"}},\"id\":\"97087\",\"subtype\":\"Figure\",\"type\":\"Plot\"},{\"attributes\":{},\"id\":\"97140\",\"type\":\"Selection\"},{\"attributes\":{\"fill_alpha\":0.5,\"fill_color\":\"#1f77b3\",\"line_alpha\":0.7,\"x\":{\"field\":\"x\"},\"y\":{\"field\":\"y\"}},\"id\":\"97124\",\"type\":\"Patch\"},{\"attributes\":{},\"id\":\"97118\",\"type\":\"BasicTickFormatter\"},{\"attributes\":{\"data_source\":{\"id\":\"97121\"},\"glyph\":{\"id\":\"97124\"},\"hover_glyph\":null,\"muted_glyph\":{\"id\":\"97126\"},\"nonselection_glyph\":{\"id\":\"97125\"},\"selection_glyph\":null,\"view\":{\"id\":\"97128\"}},\"id\":\"97127\",\"type\":\"GlyphRenderer\"},{\"attributes\":{\"source\":{\"id\":\"97139\"}},\"id\":\"97146\",\"type\":\"CDSView\"},{\"attributes\":{\"fill_alpha\":0.5,\"fill_color\":\"#2ba02b\",\"line_alpha\":0.7,\"x\":{\"field\":\"x\"},\"y\":{\"field\":\"y\"}},\"id\":\"97162\",\"type\":\"Patch\"},{\"attributes\":{\"end\":16.28912468239428,\"reset_end\":16.28912468239428,\"reset_start\":-0.6230568976558155,\"start\":-0.6230568976558155,\"tags\":[[[\"median_income\",\"median_income\",null]]]},\"id\":\"97082\",\"type\":\"Range1d\"},{\"attributes\":{\"data_source\":{\"id\":\"97158\"},\"glyph\":{\"id\":\"97161\"},\"hover_glyph\":null,\"muted_glyph\":{\"id\":\"97163\"},\"nonselection_glyph\":{\"id\":\"97162\"},\"selection_glyph\":null,\"view\":{\"id\":\"97165\"}},\"id\":\"97164\",\"type\":\"GlyphRenderer\"},{\"attributes\":{},\"id\":\"97101\",\"type\":\"BasicTicker\"},{\"attributes\":{\"source\":{\"id\":\"97121\"}},\"id\":\"97128\",\"type\":\"CDSView\"},{\"attributes\":{},\"id\":\"97094\",\"type\":\"LinearScale\"},{\"attributes\":{\"label\":{\"value\":\"under predict\"},\"renderers\":[{\"id\":\"97164\"}]},\"id\":\"97178\",\"type\":\"LegendItem\"},{\"attributes\":{\"click_policy\":\"mute\",\"items\":[{\"id\":\"97138\"},{\"id\":\"97157\"},{\"id\":\"97178\"}],\"title\":\"forecast_flag\"},\"id\":\"97137\",\"type\":\"Legend\"},{\"attributes\":{},\"id\":\"97097\",\"type\":\"BasicTicker\"},{\"attributes\":{},\"id\":\"97106\",\"type\":\"WheelZoomTool\"},{\"attributes\":{\"label\":{\"value\":\"over predict\"},\"renderers\":[{\"id\":\"97127\"}]},\"id\":\"97138\",\"type\":\"LegendItem\"},{\"attributes\":{\"margin\":[5,5,5,5],\"name\":\"HSpacer256448\",\"sizing_mode\":\"stretch_width\"},\"id\":\"97287\",\"type\":\"Spacer\"},{\"attributes\":{\"fill_alpha\":0.2,\"fill_color\":\"#2ba02b\",\"line_alpha\":0.2,\"x\":{\"field\":\"x\"},\"y\":{\"field\":\"y\"}},\"id\":\"97163\",\"type\":\"Patch\"},{\"attributes\":{},\"id\":\"97122\",\"type\":\"Selection\"},{\"attributes\":{\"data\":{\"x\":{\"__ndarray__\":\"rhefRsMg1b80ggXQuMTEv4BeZaadAnc/HNhrquI0xj+iQtIz2NjVP5tMN4mfS+A/5XeF+NKq5T8vo9NnBgrrPzznkOucNPA/4vw3ozbk8j+GEt9a0JP1PywohhJqQ/g/0D0tygPz+j90U9SBnaL9P420vZwbKQBAYD+ReOiAAUAyymRUtdgCQARVODCCMARA198LDE+IBUCqat/nG+AGQHz1ssPoNwhAToCGn7WPCUAhC1p7gucKQPSVLVdPPwxAxiABMxyXDUCYq9QO6e4OQDUbVPVaIxBAn+A9Y0HPEEAIpifRJ3sRQHFrET8OJxJA2zD7rPTSEkBE9uQa234TQK27zojBKhRAFoG49qfWFEB/RqJkjoIVQOkLjNJ0LhZAUtF1QFvaFkC7ll+uQYYXQCVcSRwoMhhAjiEzig7eGED35hz49IkZQGCsBmbbNRpAyXHw08HhGkAzN9pBqI0bQJz8w6+OORxABcKtHXXlHEBvh5eLW5EdQNhMgflBPR5AQRJrZyjpHkCr11TVDpUfQIpOn6F6ICBAPzGU2G12IEDzE4kPYcwgQKj2fUZUIiFAXdlyfUd4IUARvGe0Os4hQMaeXOstJCJAe4FRIiF6IkAvZEZZFNAiQORGO5AHJiNAmSkwx/p7I0BNDCX+7dEjQALvGTXhJyRAttEObNR9JEBrtAOjx9MkQCCX+Nm6KSVA1HntEK5/JUCJXOJHodUlQD0/136UKyZA8iHMtYeBJkCnBMHsetcmQFvntSNuLSdAEMqqWmGDJ0DFrJ+RVNknQHmPlMhHLyhALnKJ/zqFKEDjVH42LtsoQJc3c20hMSlATBpopBSHKUAA/VzbB90pQLXfURL7MipAasJGSe6IKkAepTuA4d4qQNOHMLfUNCtAh2ol7seKK0A8TRolu+ArQPEvD1yuNixApRIEk6GMLEBa9fjJlOIsQA/Y7QCIOC1Aw7riN3uOLUB4nddubuQtQC2AzKVhOi5A4WLB3FSQLkCWRbYTSOYuQEooq0o7PC9A/wqggS6SL0Cz7ZS4IegvQDToxHcKHzBAjlk/EwRKMECOWT8TBEowQDToxHcKHzBAs+2UuCHoL0D/CqCBLpIvQEooq0o7PC9AlkW2E0jmLkDhYsHcVJAuQC2AzKVhOi5AeJ3Xbm7kLUDDuuI3e44tQA/Y7QCIOC1AWvX4yZTiLEClEgSToYwsQPEvD1yuNixAPE0aJbvgK0CHaiXux4orQNOHMLfUNCtAHqU7gOHeKkBqwkZJ7ogqQLXfURL7MipAAP1c2wfdKUBMGmikFIcpQJc3c20hMSlA41R+Ni7bKEAucon/OoUoQHmPlMhHLyhAxayfkVTZJ0AQyqpaYYMnQFvntSNuLSdApwTB7HrXJkDyIcy1h4EmQD0/136UKyZAiVziR6HVJUDUee0Qrn8lQCCX+Nm6KSVAa7QDo8fTJEC20Q5s1H0kQALvGTXhJyRATQwl/u3RI0CZKTDH+nsjQORGO5AHJiNAL2RGWRTQIkB7gVEiIXoiQMaeXOstJCJAEbxntDrOIUBd2XJ9R3ghQKj2fUZUIiFA8xOJD2HMIEA/MZTYbXYgQIpOn6F6ICBAq9dU1Q6VH0BBEmtnKOkeQNhMgflBPR5Ab4eXi1uRHUAFwq0ddeUcQJz8w6+OORxAMzfaQaiNG0DJcfDTweEaQGCsBmbbNRpA9+Yc+PSJGUCOITOKDt4YQCVcSRwoMhhAu5ZfrkGGF0BS0XVAW9oWQOkLjNJ0LhZAf0aiZI6CFUAWgbj2p9YUQK27zojBKhRARPbkGtt+E0DbMPus9NISQHFrET8OJxJACKYn0Sd7EUCf4D1jQc8QQDUbVPVaIxBAmKvUDunuDkDGIAEzHJcNQPSVLVdPPwxAIQtae4LnCkBOgIaftY8JQHz1ssPoNwhAqmrf5xvgBkDX3wsMT4gFQARVODCCMARAMspkVLXYAkBgP5F46IABQI20vZwbKQBAdFPUgZ2i/T/QPS3KA/P6PywohhJqQ/g/hhLfWtCT9T/i/DejNuTyPzznkOucNPA/L6PTZwYK6z/ld4X40qrlP5tMN4mfS+A/okLSM9jY1T8c2Guq4jTGP4BeZaadAnc/NIIF0LjExL+uF59GwyDVvw==\",\"dtype\":\"float64\",\"order\":\"little\",\"shape\":[200]},\"y\":{\"__ndarray__\":\"AAAAAAAAAAAAAAAAAAAAAAAAAAAAAAAAAAAAAAAAAAAAAAAAAAAAAAAAAAAAAAAAAAAAAAAAAAAAAAAAAAAAAAAAAAAAAAAAAAAAAAAAAAAAAAAAAAAAAAAAAAAAAAAAAAAAAAAAAAAAAAAAAAAAAAAAAAAAAAAAAAAAAAAAAAAAAAAAAAAAAAAAAAAAAAAAAAAAAAAAAAAAAAAAAAAAAAAAAAAAAAAAAAAAAAAAAAAAAAAAAAAAAAAAAAAAAAAAAAAAAAAAAAAAAAAAAAAAAAAAAAAAAAAAAAAAAAAAAAAAAAAAAAAAAAAAAAAAAAAAAAAAAAAAAAAAAAAAAAAAAAAAAAAAAAAAAAAAAAAAAAAAAAAAAAAAAAAAAAAAAAAAAAAAAAAAAAAAAAAAAAAAAAAAAAAAAAAAAAAAAAAAAAAAAAAAAAAAAAAAAAAAAAAAAAAAAAAAAAAAAAAAAAAAAAAAAAAAAAAAAAAAAAAAAAAAAAAAAAAAAAAAAAAAAAAAAAAAAAAAAAAAAAAAAAAAAAAAAAAAAAAAAAAAAAAAAAAAAAAAAAAAAAAAAAAAAAAAAAAAAAAAAAAAAAAAAAAAAAAAAAAAAAAAAAAAAAAAAAAAAAAAAAAAAAAAAAAAAAAAAAAAAAAAAAAAAAAAAAAAAAAAAAAAAAAAAAAAAAAAAAAAAAAAAAAAAAAAAAAAAAAAAAAAAAAAAAAAAAAAAAAAAAAAAAAAAAAAAAAAAAAAAAAAAAAAAAAAAAAAAAAAAAAAAAAAAAAAAAAAAAAAAAAAAAAAAAAAAAAAAAAAAAAAAAAAAAAAAAAAAAAAAAAAAAAAAAAAAAAAAAAAAAAAAAAAAAAAAAAAAAAAAAAAAAAAAAAAAAAAAAAAAAAAAAAAAAAAAAAAAAAAAAAAAAAAAAAAAAAAAAAAAAAAAAAAAAAAAAAAAAAAAAAAAAAAAAAAAAAAAAAAAAAAAAAAAAAAAAAAAAAAAAAAAAAAAAAAAAAAAAAAAAAAAAAAAAAAAAAAAAAAAAAAAAAAAAAAAAAAAAAAAAAAAAAAAAAAAAAAAAAAAADiOcwvQzoVP4ouUAUtwC8/DURbCD5iRD/BiLHUq3dWP3Plz98sQmU/+xOjbmFEcT/QDdv0UhR4PyujdH1h03w/ipwlXmKffT+mFEgV1CF6P9W5WRciynM/2oolJPq6aT+sBkI3YrlcP0pudQ3kkks/fCho/i4RNz+aiOPkabwiP56HQR1gnxg/zef0i4mfIj8BjEciRncxP4yK8OrptD0/Op3Z1E/TRT8MGPtny4xLP1UqhkD92k0/E4iHnSnGSz+6FjnBTi5GPwNnvnTDaz4/UwFnLpXyMT+mOE+f0IMiP7trM9GS2RI/FNhVJS3DDz+cv20wQIodPzNMytnMujA/QpzgprVmQT8+ylv05t9PPw1qaaM1p1k/V3auCIg2Yj/FwPkMrvdmP37WeeE8A2o/GzEcIW/6aj91CYbL0HNqP/oZiiY8nmk/VpDYzWt9aT/9l66kGEpqP1DOdb+dcGs/2byjAT04bD9Y0GRt05RsP9V4k+JffW0/QF4hJbJFcD/UFBePWJpzP2LWAUZ2CXk/0UWtBtcbgD9mori8UwyEP6kiKgWenYc/rXIVjkhAij9HyGJDjPyLPyzzTuH+oo0/rjEBkRBBkD/C4Fxsw+CSP+H+/d5I7pY/wkcs9ipXnD+O6ro7Y4OhP/TEWSfenKU/3Io5XpbCqj9B59iEBJ+wP3K/Nup1jbQ/J7AXxGAGuT9GGhiLvMW9P/JwsaXEQ8E/x2G/bbqPwz/XsZPOt77FP5CjWnJz0cc/fMgoMhrLyT9Ekm+SEq/LP8eN8Vu+gc0/FR/mBVRHzz98548DJn/QP4QTa3tyTNE/OU5z/i/+0T8AYp1vcITSP2Y/o8w70tI/Nz42xGHf0j9JT3evbqTSPwpv1750FdI/VxlJfeUi0T9srrJDIYTPPz+Xky/h7ss/uQ4jcUy3xz/0MEvwxDDDP/mXDceve70/OxKUJEZwtT9D/TqCZXGtPx7opdLECKM/t5+sJ3sMlz+a9PwdwOyJP4YVqIyNy3o/mGCXbtElaT8pbXJMHDBVP9eFHywDvT8/6F5GYjn3JD8DO4D4xEgIPw==\",\"dtype\":\"float64\",\"order\":\"little\",\"shape\":[200]}},\"selected\":{\"id\":\"97122\"},\"selection_policy\":{\"id\":\"97136\"}},\"id\":\"97121\",\"type\":\"ColumnDataSource\"},{\"attributes\":{\"text\":\"median income(density)\",\"text_color\":{\"value\":\"black\"},\"text_font_size\":{\"value\":\"12pt\"}},\"id\":\"97088\",\"type\":\"Title\"},{\"attributes\":{},\"id\":\"97120\",\"type\":\"BasicTickFormatter\"},{\"attributes\":{\"fill_alpha\":0.5,\"fill_color\":\"#2ba02b\",\"line_alpha\":0.7,\"x\":{\"field\":\"x\"},\"y\":{\"field\":\"y\"}},\"id\":\"97161\",\"type\":\"Patch\"},{\"attributes\":{},\"id\":\"97156\",\"type\":\"UnionRenderers\"},{\"attributes\":{},\"id\":\"97105\",\"type\":\"PanTool\"}],\"root_ids\":[\"97080\"]},\"title\":\"Bokeh Application\",\"version\":\"2.2.3\"}};\n",
       "  var render_items = [{\"docid\":\"143ca78d-31fb-47e9-a91a-e0d16c94f2fe\",\"root_ids\":[\"97080\"],\"roots\":{\"97080\":\"2995d1ac-081e-495c-80d8-3a4dee655a3b\"}}];\n",
       "  root.Bokeh.embed.embed_items_notebook(docs_json, render_items);\n",
       "  }\n",
       "if (root.Bokeh !== undefined) {\n",
       "    embed_document(root);\n",
       "  } else {\n",
       "    var attempts = 0;\n",
       "    var timer = setInterval(function(root) {\n",
       "      if (root.Bokeh !== undefined) {\n",
       "        clearInterval(timer);\n",
       "        embed_document(root);\n",
       "      } else if (document.readyState == \"complete\") {\n",
       "        attempts++;\n",
       "        if (attempts > 100) {\n",
       "          clearInterval(timer);\n",
       "          console.log(\"Bokeh: ERROR: Unable to run BokehJS code because BokehJS library is missing\");\n",
       "        }\n",
       "      }\n",
       "    }, 10, root)\n",
       "  }\n",
       "})(window);</script>"
      ],
      "text/plain": [
       ":NdOverlay   [forecast_flag]\n",
       "   :Distribution   [median_income]   (Density)"
      ]
     },
     "execution_count": 215,
     "metadata": {
      "application/vnd.holoviews_exec.v0+json": {
       "id": "97080"
      }
     },
     "output_type": "execute_result"
    }
   ],
   "source": [
    "residual_analysis.hvplot.kde(y=\"median_income\",by=\"forecast_flag\", ## Grouping by Predictions\n",
    "                                width=800, height=400,\n",
    "                                alpha=0.7,\n",
    "                                ylabel=\"density\",\n",
    "                                xlabel=\"median_income\",\n",
    "                                title=f'median income(density)',legend='top_right')"
   ]
  },
  {
   "cell_type": "markdown",
   "metadata": {},
   "source": [
    "- From the above plot we can infer that the higher \"over predictions\" are happening for unit_cost > 200.\n",
    "- similarly, the higher \"under predictions\" are happening for unit_cost is zero.\n",
    "\n",
    "This can help us tune the model by a separate model for unit_cost > 200\n"
   ]
  },
  {
   "cell_type": "markdown",
   "metadata": {},
   "source": [
    "# 4.2 Modelling - XGBoost"
   ]
  },
  {
   "cell_type": "markdown",
   "metadata": {},
   "source": [
    "## 4.2.1 Model training pipeline\n",
    "\n",
    "Here we focus on creating a collection of pipelines that can be used for tranining respective models.\n",
    "\n",
    "Each model pipeline will essentially be of the form\n",
    "```\n",
    "[\n",
    "('preprocessing', preprocessing_pipeline),\n",
    "('feature_selection', feature_selection_pipeline),\n",
    "('estimator', estimator),\n",
    "]\n",
    "```"
   ]
  },
  {
   "cell_type": "markdown",
   "metadata": {},
   "source": [
    "### 4.2.2 Model Pipeline Build"
   ]
  },
  {
   "cell_type": "code",
   "execution_count": 224,
   "metadata": {},
   "outputs": [],
   "source": [
    "train_X.rename(columns={\"ocean_proximity_<1H OCEAN\": \"ocean_proximity_1H OCEAN\"}, inplace=True)"
   ]
  },
  {
   "cell_type": "code",
   "execution_count": 226,
   "metadata": {},
   "outputs": [
    {
     "name": "stderr",
     "output_type": "stream",
     "text": [
      "pandas.Int64Index is deprecated and will be removed from pandas in a future version. Use pandas.Index with the appropriate dtype instead.\n"
     ]
    },
    {
     "data": {
      "text/plain": [
       "Pipeline(steps=[('XGBoost',\n",
       "                 XGBRegressor(base_score=0.5, booster='gbtree',\n",
       "                              colsample_bylevel=1, colsample_bynode=1,\n",
       "                              colsample_bytree=1, gamma=0, gpu_id=-1,\n",
       "                              importance_type='gain',\n",
       "                              interaction_constraints='',\n",
       "                              learning_rate=0.300000012, max_delta_step=0,\n",
       "                              max_depth=6, min_child_weight=1, missing=nan,\n",
       "                              monotone_constraints='()', n_estimators=100,\n",
       "                              n_jobs=0, num_parallel_tree=1, random_state=0,\n",
       "                              reg_alpha=0, reg_lambda=1, scale_pos_weight=1,\n",
       "                              subsample=1, tree_method='exact',\n",
       "                              validate_parameters=1, verbosity=None))])"
      ]
     },
     "execution_count": 226,
     "metadata": {},
     "output_type": "execute_result"
    }
   ],
   "source": [
    "# let's find features for some decent defaults\n",
    "estimator = XGBRegressor()\n",
    "xgb_training_pipe_init = Pipeline([\n",
    "    ('XGBoost', XGBRegressor())\n",
    "])\n",
    "xgb_training_pipe_init.fit(train_X, train_y)"
   ]
  },
  {
   "cell_type": "markdown",
   "metadata": {},
   "source": [
    "### 4.2.3 Model Tuning"
   ]
  },
  {
   "cell_type": "code",
   "execution_count": 227,
   "metadata": {},
   "outputs": [
    {
     "data": {
      "text/plain": [
       "<AxesSubplot:>"
      ]
     },
     "execution_count": 227,
     "metadata": {},
     "output_type": "execute_result"
    },
    {
     "data": {
      "image/png": "[encoded data removed]",
      "text/plain": [
       "<Figure size 432x288 with 1 Axes>"
      ]
     },
     "metadata": {
      "needs_background": "light"
     },
     "output_type": "display_data"
    }
   ],
   "source": [
    "# Understanding the Feature Importance\n",
    "%matplotlib inline\n",
    "imp = pd.DataFrame({'importance': xgb_training_pipe_init['XGBoost'].feature_importances_})\n",
    "imp.index = train_X.columns\n",
    "imp.sort_values('importance',inplace=True)\n",
    "imp.plot(kind='barh')"
   ]
  },
  {
   "cell_type": "markdown",
   "metadata": {},
   "source": [
    "##### Pipeline build based on new importance features"
   ]
  },
  {
   "cell_type": "code",
   "execution_count": 230,
   "metadata": {},
   "outputs": [],
   "source": [
    "# let's find features for some decent defaults\n",
    "imp_features = [\"housing_median_age\", \"longitude\", \"latitude\", \"ocean_proximity_NEAR OCEAN\", \"median_income\", \"ocean_proximity_INLAND\"]\n",
    "\n",
    "estimator = XGBRegressor()\n",
    "xgb_training_pipe2 = Pipeline([\n",
    "    ('', FunctionTransformer(_custom_data_transform, kw_args={'cols2keep':imp_features})),\n",
    "    ('XGBoost', XGBRegressor())\n",
    "])"
   ]
  },
  {
   "cell_type": "markdown",
   "metadata": {},
   "source": [
    "#### Grid Search of the Estimator"
   ]
  },
  {
   "cell_type": "code",
   "execution_count": 231,
   "metadata": {},
   "outputs": [
    {
     "name": "stdout",
     "output_type": "stream",
     "text": [
      "Fitting 2 folds for each of 1 candidates, totalling 2 fits\n"
     ]
    },
    {
     "name": "stderr",
     "output_type": "stream",
     "text": [
      "pandas.Int64Index is deprecated and will be removed from pandas in a future version. Use pandas.Index with the appropriate dtype instead.\n"
     ]
    },
    {
     "name": "stdout",
     "output_type": "stream",
     "text": [
      "0.8109304076386892\n",
      "{'gamma': 0.03, 'learning_rate': 0.1, 'max_depth': 3, 'min_child_weight': 6, 'n_estimators': 500}\n",
      "CPU times: user 27.3 s, sys: 43.2 ms, total: 27.4 s\n",
      "Wall time: 6.63 s\n"
     ]
    }
   ],
   "source": [
    "%%time\n",
    "parameters = {\n",
    "   'gamma':[0.03],\n",
    "   'min_child_weight':[6],\n",
    "   'learning_rate':[0.1],\n",
    "   'max_depth':[3],\n",
    "   'n_estimators':[500], \n",
    "}\n",
    "est = XGBRegressor()\n",
    "xgb_grid = GridSearchCV(est,\n",
    "                        parameters,\n",
    "                        cv = 2,\n",
    "                        n_jobs = 4,\n",
    "                        verbose=True)\n",
    "\n",
    "xgb_grid.fit(train_X, train_y)\n",
    "\n",
    "print(xgb_grid.best_score_)\n",
    "print(xgb_grid.best_params_)"
   ]
  },
  {
   "cell_type": "markdown",
   "metadata": {},
   "source": [
    "#### Pipeline Build using the best estimator"
   ]
  },
  {
   "cell_type": "code",
   "execution_count": 232,
   "metadata": {},
   "outputs": [
    {
     "name": "stderr",
     "output_type": "stream",
     "text": [
      "pandas.Int64Index is deprecated and will be removed from pandas in a future version. Use pandas.Index with the appropriate dtype instead.\n"
     ]
    },
    {
     "data": {
      "text/plain": [
       "Pipeline(steps=[('',\n",
       "                 FunctionTransformer(func=<function _custom_data_transform at 0x7f6a521b9040>,\n",
       "                                     kw_args={'cols2keep': ['housing_median_age',\n",
       "                                                            'longitude',\n",
       "                                                            'latitude',\n",
       "                                                            'ocean_proximity_NEAR '\n",
       "                                                            'OCEAN',\n",
       "                                                            'median_income',\n",
       "                                                            'ocean_proximity_INLAND']})),\n",
       "                ('XGBoost',\n",
       "                 XGBRegressor(base_score=0.5, booster='gbtree',\n",
       "                              colsample_bylevel=1, colsample_bynode=1,\n",
       "                              colsample_bytree=1, gamma=0.03, gpu_id=-1,\n",
       "                              importance_type='gain',\n",
       "                              interaction_constraints='', learning_rate=0.1,\n",
       "                              max_delta_step=0, max_depth=3, min_child_weight=6,\n",
       "                              missing=nan, monotone_constraints='()',\n",
       "                              n_estimators=500, n_jobs=0, num_parallel_tree=1,\n",
       "                              random_state=0, reg_alpha=0, reg_lambda=1,\n",
       "                              scale_pos_weight=1, subsample=1,\n",
       "                              tree_method='exact', validate_parameters=1,\n",
       "                              verbosity=None))])"
      ]
     },
     "execution_count": 232,
     "metadata": {},
     "output_type": "execute_result"
    }
   ],
   "source": [
    "xgb_pipeline_final = Pipeline([\n",
    "    ('', FunctionTransformer(_custom_data_transform, kw_args={'cols2keep':imp_features})),\n",
    "    ('XGBoost', xgb_grid.best_estimator_)\n",
    "])\n",
    "xgb_pipeline_final.fit(train_X, train_y)"
   ]
  },
  {
   "cell_type": "code",
   "execution_count": 233,
   "metadata": {},
   "outputs": [
    {
     "name": "stderr",
     "output_type": "stream",
     "text": [
      "pandas.Int64Index is deprecated and will be removed from pandas in a future version. Use pandas.Index with the appropriate dtype instead.\n",
      "pandas.Int64Index is deprecated and will be removed from pandas in a future version. Use pandas.Index with the appropriate dtype instead.\n",
      "Attribute `_pairwise` was deprecated in version 0.24 and will be removed in 1.1 (renaming of 0.26).\n",
      "In a future version of pandas all arguments of DataFrame.drop except for the argument 'labels' will be keyword-only.\n",
      "In a future version of pandas all arguments of DataFrame.drop except for the argument 'labels' will be keyword-only.\n",
      "this method is deprecated in favour of `Styler.to_html()`\n"
     ]
    }
   ],
   "source": [
    "reg_tree_report = RegressionReport(model=xgb_pipeline_final, x_train=train_X, y_train=train_y, x_test= test_X, y_test= test_y)\n",
    "reg_tree_report.get_report(include_shap=False, file_path='regression_tree_model_report')"
   ]
  },
  {
   "cell_type": "markdown",
   "metadata": {},
   "source": [
    "# 5 Model Comparison"
   ]
  },
  {
   "cell_type": "markdown",
   "metadata": {},
   "source": [
    "Now, a comparison report of the  linear (vs) tree -based model  approach can be generated as follows.\n",
    "\n",
    "This code will not be part of the production code."
   ]
  },
  {
   "cell_type": "code",
   "execution_count": 250,
   "metadata": {},
   "outputs": [
    {
     "data": {
      "text/html": [
       "<div>\n",
       "<style scoped>\n",
       "    .dataframe tbody tr th:only-of-type {\n",
       "        vertical-align: middle;\n",
       "    }\n",
       "\n",
       "    .dataframe tbody tr th {\n",
       "        vertical-align: top;\n",
       "    }\n",
       "\n",
       "    .dataframe thead th {\n",
       "        text-align: right;\n",
       "    }\n",
       "</style>\n",
       "<table border=\"1\" class=\"dataframe\">\n",
       "  <thead>\n",
       "    <tr style=\"text-align: right;\">\n",
       "      <th>metric</th>\n",
       "      <th>MAPE</th>\n",
       "      <th>WMAPE</th>\n",
       "      <th>MAE</th>\n",
       "      <th>RMSE</th>\n",
       "      <th>R^2</th>\n",
       "    </tr>\n",
       "  </thead>\n",
       "  <tbody>\n",
       "    <tr>\n",
       "      <th>, Linear Regression</th>\n",
       "      <td>0.2906</td>\n",
       "      <td>0.2417</td>\n",
       "      <td>49964.7758</td>\n",
       "      <td>68376.2531</td>\n",
       "      <td>0.6493</td>\n",
       "    </tr>\n",
       "    <tr>\n",
       "      <th>, XGBoost</th>\n",
       "      <td>0.1770</td>\n",
       "      <td>0.1542</td>\n",
       "      <td>31870.3345</td>\n",
       "      <td>46521.2903</td>\n",
       "      <td>0.8377</td>\n",
       "    </tr>\n",
       "  </tbody>\n",
       "</table>\n",
       "</div>"
      ],
      "text/plain": [
       "metric                 MAPE   WMAPE         MAE        RMSE     R^2\n",
       ", Linear Regression  0.2906  0.2417  49964.7758  68376.2531  0.6493\n",
       ", XGBoost            0.1770  0.1542  31870.3345  46521.2903  0.8377"
      ]
     },
     "execution_count": 250,
     "metadata": {},
     "output_type": "execute_result"
    }
   ],
   "source": [
    "model_comparison_report.performance_metrics"
   ]
  },
  {
   "cell_type": "markdown",
   "metadata": {},
   "source": [
    "**Dev NOTES**\n",
    "<details>\n",
    "\n",
    "the above metrics are absolute nos and not %ges"
   ]
  },
  {
   "cell_type": "markdown",
   "metadata": {},
   "source": [
    "In this example we are choosing LM model for pipelining. General criteria for choosing production models is:\n",
    "\n",
    "- Parametric models (aka whitebox models) such as Linear Regression are easier to explain to non-technical audience.\n",
    "- Generally these are accepted fast and adoption is quicker.\n",
    "- If the downstream calls for optimization using these models parametric models are easier to implement.\n",
    "- When accuracy is primary goal without explainability, the above two takes a backseat"
   ]
  }
 ],
 "metadata": {
  "kernelspec": {
   "display_name": "Python 3",
   "language": "python",
   "name": "python3"
  },
  "language_info": {
   "codemirror_mode": {
    "name": "ipython",
    "version": 3
   },
   "file_extension": ".py",
   "mimetype": "text/x-python",
   "name": "python",
   "nbconvert_exporter": "python",
   "pygments_lexer": "ipython3",
   "version": "3.8.11"
  }
 },
 "nbformat": 4,
 "nbformat_minor": 4
}
